{
 "cells": [
  {
   "cell_type": "code",
   "execution_count": 1,
   "id": "6495e017",
   "metadata": {},
   "outputs": [],
   "source": [
    "# Python Collection:\n",
    "#     List\n",
    "#     Tuple\n",
    "#     Dictionary\n",
    "#     Set"
   ]
  },
  {
   "cell_type": "code",
   "execution_count": 2,
   "id": "acfbad99",
   "metadata": {},
   "outputs": [],
   "source": [
    "# List: can store multiple and duplicate data\n",
    "#     - support indexng\n",
    "#     - ordered\n",
    "#     - mutable"
   ]
  },
  {
   "cell_type": "code",
   "execution_count": 4,
   "id": "b2bad288",
   "metadata": {},
   "outputs": [
    {
     "name": "stdout",
     "output_type": "stream",
     "text": [
      "<class 'list'>\n",
      "<class 'list'>\n"
     ]
    }
   ],
   "source": [
    "l = [\"Apple\", \"Banana\", \"Mango\", \"Apple\"]\n",
    "l1 = [1,2,3,4,5,6,7,8,9,10]\n",
    "print(type(l))\n",
    "print(type(l1))"
   ]
  },
  {
   "cell_type": "code",
   "execution_count": 10,
   "id": "0550e3f1",
   "metadata": {},
   "outputs": [
    {
     "name": "stdout",
     "output_type": "stream",
     "text": [
      "Apple\n",
      "['Apple', 'Banana', 'Mango']\n",
      "['Apple', 'Banana', 'Mango', 'Apple']\n",
      "['Apple', 'Mango']\n"
     ]
    }
   ],
   "source": [
    "l = [\"Apple\", \"Banana\", \"Mango\", \"Apple\"]\n",
    "print(l[0])\n",
    "print(l[0:3])\n",
    "print(l[0:])\n",
    "print(l[0:6:2])"
   ]
  },
  {
   "cell_type": "code",
   "execution_count": 11,
   "id": "3216a704",
   "metadata": {},
   "outputs": [
    {
     "name": "stdout",
     "output_type": "stream",
     "text": [
      "['Apple', 'Banana', 'Mango', 'Apple']\n"
     ]
    }
   ],
   "source": [
    "l = [\"Apple\", \"Banana\", \"Mango\", \"Apple\"]\n",
    "print(l)"
   ]
  },
  {
   "cell_type": "code",
   "execution_count": 12,
   "id": "78e86d8d",
   "metadata": {},
   "outputs": [],
   "source": [
    "# Types of operators in list: + *"
   ]
  },
  {
   "cell_type": "code",
   "execution_count": 13,
   "id": "9bb15f18",
   "metadata": {},
   "outputs": [
    {
     "name": "stdout",
     "output_type": "stream",
     "text": [
      "[1, 2, 3, 4, 5, 6]\n"
     ]
    }
   ],
   "source": [
    "a = [1,2,3]\n",
    "b = [4,5,6]\n",
    "c = a+b\n",
    "print(c)"
   ]
  },
  {
   "cell_type": "code",
   "execution_count": 14,
   "id": "f303aa93",
   "metadata": {},
   "outputs": [
    {
     "name": "stdout",
     "output_type": "stream",
     "text": [
      "[1, 2, 3, 1, 2, 3]\n"
     ]
    }
   ],
   "source": [
    "a = [1,2,3]\n",
    "print(a*2)"
   ]
  },
  {
   "cell_type": "code",
   "execution_count": 16,
   "id": "ec167328",
   "metadata": {},
   "outputs": [
    {
     "data": {
      "text/plain": [
       "[]"
      ]
     },
     "execution_count": 16,
     "metadata": {},
     "output_type": "execute_result"
    }
   ],
   "source": [
    "# Defining empty list\n",
    "\n",
    "l = list()\n",
    "l"
   ]
  },
  {
   "cell_type": "code",
   "execution_count": 17,
   "id": "ff67bd35",
   "metadata": {},
   "outputs": [],
   "source": [
    "# To create list:\n",
    "#     append()\n",
    "#     insert()\n",
    "#     extend()"
   ]
  },
  {
   "cell_type": "code",
   "execution_count": 18,
   "id": "1ef68cef",
   "metadata": {},
   "outputs": [
    {
     "name": "stdout",
     "output_type": "stream",
     "text": [
      "['Apple', 'Mango', 'Grape']\n"
     ]
    }
   ],
   "source": [
    "# Append: add values to last\n",
    "\n",
    "a=[]\n",
    "a.append(\"Apple\")\n",
    "a.append(\"Mango\")\n",
    "a.append(\"Grape\")\n",
    "print(a)"
   ]
  },
  {
   "cell_type": "code",
   "execution_count": 19,
   "id": "54b615f8",
   "metadata": {},
   "outputs": [
    {
     "name": "stdout",
     "output_type": "stream",
     "text": [
      "Enter n = 2\n",
      "Enter x = Apple\n",
      "Enter x = Mango\n",
      "['Apple', 'Mango']\n"
     ]
    }
   ],
   "source": [
    "l = []\n",
    "n = int(input(\"Enter n = \"))\n",
    "for i in range(n):\n",
    "    x = input(\"Enter x = \")\n",
    "    l.append(x)\n",
    "print(l)"
   ]
  },
  {
   "cell_type": "code",
   "execution_count": 24,
   "id": "302722c1",
   "metadata": {},
   "outputs": [
    {
     "name": "stdout",
     "output_type": "stream",
     "text": [
      "['Apple', 'Banana', 'Mango', 'Apple', 'Hello']\n"
     ]
    }
   ],
   "source": [
    "a = [\"Apple\", \"Banana\", \"Mango\", \"Apple\"]\n",
    "a.append(\"Hello\")\n",
    "print(a)"
   ]
  },
  {
   "cell_type": "code",
   "execution_count": 26,
   "id": "d90c66cf",
   "metadata": {},
   "outputs": [
    {
     "name": "stdout",
     "output_type": "stream",
     "text": [
      "['Apple', 'Banana', 'New', 'Mango', 'Apple', 'Hello']\n"
     ]
    }
   ],
   "source": [
    "# Insert: insert value anywhere in list by specifying the index\n",
    "\n",
    "a = ['Apple', 'Banana', 'Mango', 'Apple', 'Hello']\n",
    "a.insert(2,\"New\")\n",
    "print(a)"
   ]
  },
  {
   "cell_type": "code",
   "execution_count": 27,
   "id": "7a416a47",
   "metadata": {},
   "outputs": [
    {
     "name": "stdout",
     "output_type": "stream",
     "text": [
      "[1, 2, 3, 4, 5, 6, 7, 8]\n"
     ]
    }
   ],
   "source": [
    "# Extend\n",
    "\n",
    "a = [1,2,3,4]\n",
    "b = [5,6,7,8]\n",
    "a.extend(b)\n",
    "print(a)"
   ]
  },
  {
   "cell_type": "code",
   "execution_count": 30,
   "id": "80482147",
   "metadata": {
    "scrolled": true
   },
   "outputs": [
    {
     "name": "stdout",
     "output_type": "stream",
     "text": [
      "['Apple', 'Banana', 'Mango', 'Hello']\n"
     ]
    }
   ],
   "source": [
    "# Update\n",
    "\n",
    "a = ['Apple', 'Banana', 'Mango', 'Hello']\n",
    "a[0] = \"Apple\"\n",
    "print(a)"
   ]
  },
  {
   "cell_type": "code",
   "execution_count": 31,
   "id": "023327b1",
   "metadata": {},
   "outputs": [
    {
     "name": "stdout",
     "output_type": "stream",
     "text": [
      "['APPLE', 'Banana', 'Mango', 'Hello']\n"
     ]
    }
   ],
   "source": [
    "a = ['Apple', 'Banana', 'Mango', 'Hello']\n",
    "a[0] = a[0].upper()\n",
    "print(a)"
   ]
  },
  {
   "cell_type": "code",
   "execution_count": 33,
   "id": "b07096e7",
   "metadata": {},
   "outputs": [
    {
     "name": "stdout",
     "output_type": "stream",
     "text": [
      "['apple', 'banana', 'mango', 'Hello']\n"
     ]
    }
   ],
   "source": [
    "a = ['Apple', 'Banana', 'Mango', 'Hello']\n",
    "a[0:3] = [\"apple\", \"banana\", \"mango\"]\n",
    "print(a)"
   ]
  },
  {
   "cell_type": "code",
   "execution_count": 34,
   "id": "87fbf131",
   "metadata": {},
   "outputs": [
    {
     "name": "stdout",
     "output_type": "stream",
     "text": [
      "['apple', 'Hello']\n"
     ]
    }
   ],
   "source": [
    "a = ['Apple', 'Banana', 'Mango', 'Hello']\n",
    "a[0:3] = [\"apple\"]\n",
    "print(a)"
   ]
  },
  {
   "cell_type": "code",
   "execution_count": null,
   "id": "55939c7f",
   "metadata": {},
   "outputs": [],
   "source": [
    "# For delete: del, remove(), pop()"
   ]
  },
  {
   "cell_type": "code",
   "execution_count": 39,
   "id": "d24954a1",
   "metadata": {},
   "outputs": [
    {
     "name": "stdout",
     "output_type": "stream",
     "text": [
      "['Banana', 'Mango', 'Hello']\n"
     ]
    }
   ],
   "source": [
    "a = ['Apple', 'Banana', 'Mango', 'Hello']\n",
    "del a[0]\n",
    "print(a)"
   ]
  },
  {
   "cell_type": "code",
   "execution_count": 40,
   "id": "aa2fc8bc",
   "metadata": {},
   "outputs": [
    {
     "name": "stdout",
     "output_type": "stream",
     "text": [
      "['Mango', 'Hello']\n"
     ]
    }
   ],
   "source": [
    "del a[0]\n",
    "print(a)"
   ]
  },
  {
   "cell_type": "code",
   "execution_count": 41,
   "id": "816bc023",
   "metadata": {},
   "outputs": [
    {
     "name": "stdout",
     "output_type": "stream",
     "text": [
      "['Ale', 'Banana', 'Mango', 'Hello']\n"
     ]
    }
   ],
   "source": [
    "a = ['Apple', 'Banana', 'Mango', 'Hello']\n",
    "a[0] = a[0].replace(\"p\",\"\")\n",
    "print(a)"
   ]
  },
  {
   "cell_type": "code",
   "execution_count": 54,
   "id": "fe0a73a4",
   "metadata": {},
   "outputs": [
    {
     "name": "stdout",
     "output_type": "stream",
     "text": [
      "['APPLE', 'BANANA', 'MANGO', 'HELLO']\n"
     ]
    }
   ],
   "source": [
    "l = len(a)\n",
    "a = ['Apple', 'Banana', 'Mango', 'Hello']\n",
    "for i in range(l):\n",
    "    a[i] = a[i].upper()\n",
    "print(a)"
   ]
  },
  {
   "cell_type": "code",
   "execution_count": 55,
   "id": "fc946da6",
   "metadata": {},
   "outputs": [
    {
     "name": "stdout",
     "output_type": "stream",
     "text": [
      "[11500.0, 23000.0, 34500.0, 46000.0]\n"
     ]
    }
   ],
   "source": [
    "s = [10000,20000,30000,40000]\n",
    "l = len(s)\n",
    "for i in range(l):\n",
    "    s[i] = s[i]*1.15\n",
    "print(s)"
   ]
  },
  {
   "cell_type": "code",
   "execution_count": 1,
   "id": "714d6014",
   "metadata": {},
   "outputs": [
    {
     "name": "stdout",
     "output_type": "stream",
     "text": [
      "['Mango', 'Hello']\n"
     ]
    }
   ],
   "source": [
    "# To delete in range\n",
    "\n",
    "a = ['Apple', 'Banana', 'Mango', 'Hello']\n",
    "del a[0:2]\n",
    "print(a)"
   ]
  },
  {
   "cell_type": "code",
   "execution_count": 6,
   "id": "3aaf3e1a",
   "metadata": {},
   "outputs": [
    {
     "name": "stdout",
     "output_type": "stream",
     "text": [
      "['Banana', 'Mango', 'Hello', 'Apple']\n"
     ]
    }
   ],
   "source": [
    "# Remove: delete the data by value and cannot delete mutiple data\n",
    "\n",
    "a = ['Apple', 'Banana', 'Mango', 'Hello', 'Apple']\n",
    "a.remove(\"Apple\")\n",
    "print(a)"
   ]
  },
  {
   "cell_type": "code",
   "execution_count": 5,
   "id": "dd0e4745",
   "metadata": {},
   "outputs": [
    {
     "name": "stdout",
     "output_type": "stream",
     "text": [
      "['Banana', 'Mango', 'Hello']\n",
      "Apple\n"
     ]
    }
   ],
   "source": [
    "# POP: can remove data and the deleted data can be stored in another variable\n",
    "\n",
    "a = ['Apple', 'Banana', 'Mango', 'Hello']\n",
    "b = a.pop(0)\n",
    "print(a)\n",
    "print(b)"
   ]
  },
  {
   "cell_type": "code",
   "execution_count": 11,
   "id": "72300beb",
   "metadata": {},
   "outputs": [
    {
     "name": "stdout",
     "output_type": "stream",
     "text": [
      "['Banana', 'Mango', 'Hello']\n"
     ]
    }
   ],
   "source": [
    "# To delete same data at once. \n",
    "\n",
    "a = ['Apple', 'Banana', 'Mango', 'Hello', 'Apple']\n",
    "b = a.count(\"Apple\")\n",
    "for i in range(b):\n",
    "    a.remove(\"Apple\")\n",
    "print(a)"
   ]
  },
  {
   "cell_type": "code",
   "execution_count": 18,
   "id": "1522f319",
   "metadata": {},
   "outputs": [
    {
     "name": "stdout",
     "output_type": "stream",
     "text": [
      "0\n",
      "4\n"
     ]
    }
   ],
   "source": [
    "# To find out the index of the data\n",
    "\n",
    "a = ['Apple', 'Banana', 'Mango', 'Hello', 'Apple']\n",
    "for i in range(len(a)):\n",
    "    if a[i] == \"Apple\":\n",
    "        print(i)"
   ]
  },
  {
   "cell_type": "code",
   "execution_count": 10,
   "id": "4d42a939",
   "metadata": {},
   "outputs": [
    {
     "name": "stdout",
     "output_type": "stream",
     "text": [
      "[0, 4]\n",
      "['Grapes', 'Banana', 'Mango', 'Hello', 'Grapes']\n"
     ]
    }
   ],
   "source": [
    "# To find out multiple index of a data\n",
    "\n",
    "a = ['Apple', 'Banana', 'Mango', 'Hello', 'Apple']\n",
    "l = []\n",
    "for i in range(len(a)):\n",
    "    if a[i] == \"Apple\":\n",
    "        l.append(i)\n",
    "print(l)\n",
    "for i in l:\n",
    "    a[i] = \"Grapes\"\n",
    "print(a)"
   ]
  },
  {
   "cell_type": "code",
   "execution_count": 19,
   "id": "b2e364e8",
   "metadata": {},
   "outputs": [
    {
     "name": "stdout",
     "output_type": "stream",
     "text": [
      "Sum =  537\n",
      "Minimum value =  12\n",
      "Maximum value =  89\n",
      "Sorted value =  [12, 23, 32, 34, 36, 45, 56, 65, 67, 78, 89]\n",
      "Reversed value =  [89, 78, 67, 65, 56, 45, 36, 34, 32, 23, 12]\n"
     ]
    }
   ],
   "source": [
    "# min(), max(), sum(), sort(), reverse()\n",
    "\n",
    "a = [34,56,32,78,65,45,67,89,36,12,23]\n",
    "print(\"Sum = \",sum(a))\n",
    "print(\"Minimum value = \",min(a))\n",
    "print(\"Maximum value = \",max(a))\n",
    "a.sort()\n",
    "print(\"Sorted value = \",a)\n",
    "a.reverse()\n",
    "print(\"Reversed value = \",a)"
   ]
  },
  {
   "cell_type": "code",
   "execution_count": 23,
   "id": "8e4e97dd",
   "metadata": {},
   "outputs": [
    {
     "name": "stdout",
     "output_type": "stream",
     "text": [
      "['#', '$', '12', '23', 'Apple', 'Ball', 'Cat', 'Duster', 'Zebra', 'apple']\n"
     ]
    }
   ],
   "source": [
    "a = [\"Duster\",\"Apple\", \"Cat\", \"Ball\", \"Zebra\",\"23\",\"12\",\"apple\", \"#\",\"$\"]\n",
    "a.sort()\n",
    "print(a)"
   ]
  },
  {
   "cell_type": "code",
   "execution_count": 5,
   "id": "5168b0e7",
   "metadata": {},
   "outputs": [
    {
     "data": {
      "text/plain": [
       "['apple', 'ball', 'cat']"
      ]
     },
     "execution_count": 5,
     "metadata": {},
     "output_type": "execute_result"
    }
   ],
   "source": [
    "# List comprehension\n",
    "\n",
    "l = [\"Apple\",\"Ball\",\"Cat\"]\n",
    "l1 = [i.lower() for i in l]\n",
    "l1"
   ]
  }
 ],
 "metadata": {
  "kernelspec": {
   "display_name": "Python 3 (ipykernel)",
   "language": "python",
   "name": "python3"
  },
  "language_info": {
   "codemirror_mode": {
    "name": "ipython",
    "version": 3
   },
   "file_extension": ".py",
   "mimetype": "text/x-python",
   "name": "python",
   "nbconvert_exporter": "python",
   "pygments_lexer": "ipython3",
   "version": "3.9.12"
  }
 },
 "nbformat": 4,
 "nbformat_minor": 5
}
