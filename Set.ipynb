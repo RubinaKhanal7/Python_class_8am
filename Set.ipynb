{
 "cells": [
  {
   "cell_type": "code",
   "execution_count": 1,
   "id": "9dea449c",
   "metadata": {},
   "outputs": [],
   "source": [
    "# Set:\n",
    "#     -No indexing because set is unordered\n",
    "#     -Multiple data but no duplicate data\n",
    "#     -Unordered datatype: output are changed as the ouptput is different than defined value\n",
    "#     -Mutable datatype\n",
    "#     -cannot use * or +\n",
    "#     -Functions used in set: union, intersection, difference (-), disjoint(), subset(), superset()"
   ]
  },
  {
   "cell_type": "code",
   "execution_count": 2,
   "id": "62e99e09",
   "metadata": {},
   "outputs": [],
   "source": [
    "# For empty set\n",
    "s = set()"
   ]
  },
  {
   "cell_type": "code",
   "execution_count": 4,
   "id": "eb03525e",
   "metadata": {},
   "outputs": [
    {
     "name": "stdout",
     "output_type": "stream",
     "text": [
      "{1, 2, 3, 4, 5, 6, 7, 8}\n"
     ]
    }
   ],
   "source": [
    "s = {1,3,2,8,5,6,7,4,1,2,3}\n",
    "print(s)"
   ]
  },
  {
   "cell_type": "code",
   "execution_count": 6,
   "id": "3d6b38d5",
   "metadata": {},
   "outputs": [
    {
     "name": "stdout",
     "output_type": "stream",
     "text": [
      "{'Cat', 'Ball', 'Apple', 'Dog'}\n"
     ]
    }
   ],
   "source": [
    "s = {\"Apple\",\"Ball\",\"Cat\",\"Dog\"}\n",
    "print(s)"
   ]
  },
  {
   "cell_type": "code",
   "execution_count": 7,
   "id": "22fd42fa",
   "metadata": {},
   "outputs": [
    {
     "name": "stdout",
     "output_type": "stream",
     "text": [
      "{1, 2, 3, 4, 5, 6}\n"
     ]
    }
   ],
   "source": [
    "#Update\n",
    "\n",
    "a = {1,2,3}\n",
    "b = {4,5,6}\n",
    "a.update(b)\n",
    "print(a)"
   ]
  },
  {
   "cell_type": "code",
   "execution_count": 8,
   "id": "4c021879",
   "metadata": {},
   "outputs": [
    {
     "name": "stdout",
     "output_type": "stream",
     "text": [
      "{10, 34, 23}\n"
     ]
    }
   ],
   "source": [
    "a = set()\n",
    "a.add(10)\n",
    "a.add(23)\n",
    "a.add(34)\n",
    "print(a)"
   ]
  },
  {
   "cell_type": "code",
   "execution_count": 11,
   "id": "7330d6b8",
   "metadata": {},
   "outputs": [
    {
     "name": "stdout",
     "output_type": "stream",
     "text": [
      "{0, 1, 2, 4, 5, 7, 8, 9}\n"
     ]
    }
   ],
   "source": [
    "# Union\n",
    "\n",
    "a = {1,4,5,8,2}\n",
    "b = {2,4,9,0,7}\n",
    "c = a.union(b)\n",
    "print(c)"
   ]
  },
  {
   "cell_type": "code",
   "execution_count": 12,
   "id": "99327ce9",
   "metadata": {},
   "outputs": [
    {
     "name": "stdout",
     "output_type": "stream",
     "text": [
      "{2, 4}\n"
     ]
    }
   ],
   "source": [
    "# Intersection\n",
    "\n",
    "a = {1,4,5,8,2}\n",
    "b = {2,4,9,0,7}\n",
    "c = a.intersection(b)\n",
    "print(c)"
   ]
  },
  {
   "cell_type": "code",
   "execution_count": 22,
   "id": "6562a57e",
   "metadata": {},
   "outputs": [
    {
     "name": "stdout",
     "output_type": "stream",
     "text": [
      "{'Django', 'Database', 'Python'}\n"
     ]
    }
   ],
   "source": [
    "U = {\"Python\",\"Django\",\"C\",\"HTML\",\"CSS\",\"Data Science\",\"Database\",\"Microprocessor\"}\n",
    "skill = {\"Python\",\"Django\",\"C\",\"HTML\",\"CSS\",\"Data Science\",\"Database\"}\n",
    "job = {\"Python\",\"React\",\"Database\",\"Django\"}\n",
    "\n",
    "print(skill.intersection(job))"
   ]
  },
  {
   "cell_type": "code",
   "execution_count": 23,
   "id": "1a6ee9cb",
   "metadata": {},
   "outputs": [
    {
     "name": "stdout",
     "output_type": "stream",
     "text": [
      "75.0\n"
     ]
    }
   ],
   "source": [
    "match_percentage = len(skill.intersection(job))/len(job)\n",
    "print(match_percentage*100)"
   ]
  },
  {
   "cell_type": "code",
   "execution_count": 24,
   "id": "16b47a0d",
   "metadata": {},
   "outputs": [
    {
     "name": "stdout",
     "output_type": "stream",
     "text": [
      "{'React', 'Database', 'HTML', 'Python', 'Django', 'C', 'Data Science', 'CSS'}\n"
     ]
    }
   ],
   "source": [
    "print(skill.union(job))"
   ]
  },
  {
   "cell_type": "code",
   "execution_count": 25,
   "id": "36f5785c",
   "metadata": {},
   "outputs": [
    {
     "name": "stdout",
     "output_type": "stream",
     "text": [
      "{'HTML', 'Data Science', 'CSS', 'C'}\n"
     ]
    }
   ],
   "source": [
    "# data available in skill only\n",
    "\n",
    "print(skill - job)"
   ]
  },
  {
   "cell_type": "code",
   "execution_count": 26,
   "id": "a59d85e4",
   "metadata": {},
   "outputs": [
    {
     "name": "stdout",
     "output_type": "stream",
     "text": [
      "{'React'}\n"
     ]
    }
   ],
   "source": [
    "# data available in job only\n",
    "\n",
    "print(job - skill)"
   ]
  },
  {
   "cell_type": "code",
   "execution_count": 27,
   "id": "4e1c1c65",
   "metadata": {},
   "outputs": [
    {
     "name": "stdout",
     "output_type": "stream",
     "text": [
      "{'Microprocessor'}\n"
     ]
    }
   ],
   "source": [
    "# data available in universal set but not in other set\n",
    "\n",
    "print(U - skill.union(job))"
   ]
  },
  {
   "cell_type": "code",
   "execution_count": 28,
   "id": "f7020951",
   "metadata": {},
   "outputs": [
    {
     "name": "stdout",
     "output_type": "stream",
     "text": [
      "False\n"
     ]
    }
   ],
   "source": [
    "# disjoint\n",
    "\n",
    "print(skill.isdisjoint(job))"
   ]
  },
  {
   "cell_type": "code",
   "execution_count": 29,
   "id": "54b3c3e1",
   "metadata": {},
   "outputs": [
    {
     "name": "stdout",
     "output_type": "stream",
     "text": [
      "False\n"
     ]
    }
   ],
   "source": [
    "print(skill.issubset(job))"
   ]
  },
  {
   "cell_type": "code",
   "execution_count": 30,
   "id": "8beca99b",
   "metadata": {},
   "outputs": [
    {
     "name": "stdout",
     "output_type": "stream",
     "text": [
      "False\n"
     ]
    }
   ],
   "source": [
    "print(skill.issuperset(job))"
   ]
  }
 ],
 "metadata": {
  "kernelspec": {
   "display_name": "Python 3 (ipykernel)",
   "language": "python",
   "name": "python3"
  },
  "language_info": {
   "codemirror_mode": {
    "name": "ipython",
    "version": 3
   },
   "file_extension": ".py",
   "mimetype": "text/x-python",
   "name": "python",
   "nbconvert_exporter": "python",
   "pygments_lexer": "ipython3",
   "version": "3.9.12"
  }
 },
 "nbformat": 4,
 "nbformat_minor": 5
}
