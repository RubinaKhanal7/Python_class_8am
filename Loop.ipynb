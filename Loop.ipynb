{
 "cells": [
  {
   "cell_type": "code",
   "execution_count": 1,
   "id": "611f0680",
   "metadata": {},
   "outputs": [],
   "source": [
    "# Two types of loop:\n",
    "#     For\n",
    "#     while"
   ]
  },
  {
   "cell_type": "code",
   "execution_count": 2,
   "id": "c8406024",
   "metadata": {},
   "outputs": [],
   "source": [
    "# Syntax of for loop\n",
    "# range(5) = 0,1,2,3,4\n",
    "# range(1,5) = 1,2,3,4 (doesnot include 5)\n",
    "# range(1,5,2) = 1,2 (start from 1 and increase by 2 but doesnot include 5)"
   ]
  },
  {
   "cell_type": "code",
   "execution_count": 6,
   "id": "445cba67",
   "metadata": {},
   "outputs": [
    {
     "name": "stdout",
     "output_type": "stream",
     "text": [
      "0 1 2 3 4 "
     ]
    }
   ],
   "source": [
    "for i in range(5):\n",
    "    print(i, end = \" \")"
   ]
  },
  {
   "cell_type": "code",
   "execution_count": 4,
   "id": "b935066d",
   "metadata": {},
   "outputs": [
    {
     "name": "stdout",
     "output_type": "stream",
     "text": [
      "1\n",
      "2\n",
      "3\n",
      "4\n"
     ]
    }
   ],
   "source": [
    "for i in range(1,5):\n",
    "    print(i)"
   ]
  },
  {
   "cell_type": "code",
   "execution_count": 5,
   "id": "b707ffad",
   "metadata": {},
   "outputs": [
    {
     "name": "stdout",
     "output_type": "stream",
     "text": [
      "1\n",
      "3\n"
     ]
    }
   ],
   "source": [
    "for i in range(1,5,2):\n",
    "    print(i)"
   ]
  },
  {
   "cell_type": "code",
   "execution_count": 10,
   "id": "e1859d90",
   "metadata": {},
   "outputs": [
    {
     "name": "stdout",
     "output_type": "stream",
     "text": [
      "0 Hello World\n",
      "1 Hello World\n",
      "2 Hello World\n",
      "3 Hello World\n",
      "4 Hello World\n"
     ]
    }
   ],
   "source": [
    "for i in range(5):\n",
    "    print(i, \"Hello World\")"
   ]
  },
  {
   "cell_type": "code",
   "execution_count": 14,
   "id": "a786869a",
   "metadata": {
    "scrolled": true
   },
   "outputs": [
    {
     "name": "stdout",
     "output_type": "stream",
     "text": [
      "Enter n = 4\n",
      "4\n",
      "8\n",
      "12\n",
      "16\n",
      "20\n",
      "24\n",
      "28\n",
      "32\n",
      "36\n",
      "40\n"
     ]
    }
   ],
   "source": [
    "n = int(input(\"Enter n = \"))\n",
    "for i in range(1,11):\n",
    "    print(n*i)"
   ]
  },
  {
   "cell_type": "code",
   "execution_count": 17,
   "id": "23a46372",
   "metadata": {},
   "outputs": [
    {
     "name": "stdout",
     "output_type": "stream",
     "text": [
      "Enter n = 3\n",
      "3 * 1 = 3\n",
      "3 * 2 = 6\n",
      "3 * 3 = 9\n",
      "3 * 4 = 12\n",
      "3 * 5 = 15\n",
      "3 * 6 = 18\n",
      "3 * 7 = 21\n",
      "3 * 8 = 24\n",
      "3 * 9 = 27\n",
      "3 * 10 = 30\n"
     ]
    }
   ],
   "source": [
    "n = int(input(\"Enter n = \"))\n",
    "for i in range(1,11):\n",
    "    print(n,\"*\",i,\"=\",n*i)"
   ]
  },
  {
   "cell_type": "code",
   "execution_count": 24,
   "id": "70144f54",
   "metadata": {},
   "outputs": [
    {
     "name": "stdout",
     "output_type": "stream",
     "text": [
      "Enter n= 2000\n",
      "2000\n",
      "Enter n= 7000\n",
      "9000\n",
      "Enter n= 9000\n",
      "18000\n",
      "Enter n= 6000\n",
      "24000\n",
      "Enter n= 5000\n",
      "29000\n"
     ]
    }
   ],
   "source": [
    "s = 0\n",
    "for i in range(5):\n",
    "    n = int(input(\"Enter n= \"))\n",
    "    s = s+n\n",
    "    print(s)"
   ]
  },
  {
   "cell_type": "code",
   "execution_count": 25,
   "id": "bfd62fc4",
   "metadata": {},
   "outputs": [
    {
     "name": "stdout",
     "output_type": "stream",
     "text": [
      "Enter n= 2000\n",
      "2020.0\n",
      "Enter n= 7000\n",
      "9090.0\n",
      "Enter n= 9000\n",
      "18180.0\n",
      "Enter n= 6000\n",
      "24240.0\n",
      "Enter n= 5000\n",
      "29290.0\n"
     ]
    }
   ],
   "source": [
    "# adding interest\n",
    "s = 0\n",
    "for i in range(5):\n",
    "    n = int(input(\"Enter n= \"))\n",
    "    s = s+n*1.01\n",
    "    print(s)"
   ]
  },
  {
   "cell_type": "code",
   "execution_count": 26,
   "id": "9d85636d",
   "metadata": {},
   "outputs": [
    {
     "name": "stdout",
     "output_type": "stream",
     "text": [
      "Enter n= 2000\n",
      "Compounding:  2020.0\n",
      "Saving:  2000\n",
      "Enter n= 3000\n",
      "Compounding:  5050.0\n",
      "Saving:  5000\n",
      "Enter n= 7000\n",
      "Compounding:  12120.0\n",
      "Saving:  12000\n",
      "Enter n= 8000\n",
      "Compounding:  20200.0\n",
      "Saving:  20000\n",
      "Enter n= 6000\n",
      "Compounding:  26260.0\n",
      "Saving:  26000\n"
     ]
    }
   ],
   "source": [
    "s = 0\n",
    "c = 0\n",
    "for i in range(5):\n",
    "    n = int(input(\"Enter n= \"))\n",
    "    c = c+n*1.01\n",
    "    s = s+n\n",
    "    print(\"Compounding: \",c)\n",
    "    print(\"Saving: \",s)"
   ]
  },
  {
   "cell_type": "code",
   "execution_count": 33,
   "id": "0385caf8",
   "metadata": {},
   "outputs": [
    {
     "name": "stdout",
     "output_type": "stream",
     "text": [
      "Enter n= 5\n",
      "120\n"
     ]
    }
   ],
   "source": [
    "# multipication case=1 and addition case=0\n",
    "fac = 1\n",
    "n = int(input(\"Enter n= \"))\n",
    "for i in range(1,n+1):\n",
    "    fac = fac * i\n",
    "print(fac)"
   ]
  },
  {
   "cell_type": "code",
   "execution_count": 2,
   "id": "0153b6e3",
   "metadata": {},
   "outputs": [
    {
     "name": "stdout",
     "output_type": "stream",
     "text": [
      "Hello World"
     ]
    }
   ],
   "source": [
    "a = \"Hello World\"\n",
    "for i in a:\n",
    "    print(i, end=\"\")"
   ]
  },
  {
   "cell_type": "code",
   "execution_count": 3,
   "id": "fe473478",
   "metadata": {},
   "outputs": [
    {
     "name": "stdout",
     "output_type": "stream",
     "text": [
      "Hello World\n",
      "Hello World\n",
      "Hello World\n",
      "Hello World\n",
      "Hello World\n"
     ]
    }
   ],
   "source": [
    "a = \"Hello\"\n",
    "for i in a:\n",
    "    print(\"Hello World\")"
   ]
  },
  {
   "cell_type": "code",
   "execution_count": 10,
   "id": "ccbbf631",
   "metadata": {},
   "outputs": [
    {
     "name": "stdout",
     "output_type": "stream",
     "text": [
      "Hello World This is Python class"
     ]
    }
   ],
   "source": [
    "a= \"Hello World. This is Python class.\"\n",
    "for i in a:\n",
    "    if i != \".\":\n",
    "        print(i, end=\"\")"
   ]
  },
  {
   "cell_type": "code",
   "execution_count": 13,
   "id": "3183d9d0",
   "metadata": {},
   "outputs": [
    {
     "name": "stdout",
     "output_type": "stream",
     "text": [
      "Enter n = 1\n",
      "Enter name = Ram\n",
      "Enter phone = 9876564543\n",
      "Ram 9876564543\n",
      "\n"
     ]
    }
   ],
   "source": [
    "info = str()\n",
    "n = int(input(\"Enter n = \"))\n",
    "for i in range(n):\n",
    "    name = input(\"Enter name = \")\n",
    "    phone = int(input(\"Enter phone = \"))\n",
    "    data = name + \" \" + str(phone) + \"\\n\"\n",
    "    info = info + data \n",
    "print(info)"
   ]
  },
  {
   "cell_type": "code",
   "execution_count": 21,
   "id": "3e0f83e5",
   "metadata": {},
   "outputs": [
    {
     "name": "stdout",
     "output_type": "stream",
     "text": [
      "Enter n = 2\n",
      "Enter name of a product = Biscuit\n",
      "Enter price = 20\n",
      "Enter quantity = 2\n",
      "Enter name of a product = WaiWai\n",
      "Enter price = 2\n",
      "Enter quantity = 2\n",
      "Biscuit 20.0 2.0 40.0\n",
      "WaiWai 2.0 2.0 4.0\n",
      "\n",
      "Your total bill is:  44.0\n"
     ]
    }
   ],
   "source": [
    "bill = str()\n",
    "grandtotal = 0\n",
    "n = int(input(\"Enter n = \"))\n",
    "for i in range(n):\n",
    "    name = input(\"Enter name of a product = \")\n",
    "    price = float(input(\"Enter price = \"))\n",
    "    qty = float(input(\"Enter quantity = \"))\n",
    "    total = price * qty\n",
    "    grandtotal = grandtotal + total\n",
    "    data = name + \" \" + str(price) + \" \" + str(qty) + \" \" + str(total) + \"\\n\"\n",
    "    bill = bill + data\n",
    "print(bill)\n",
    "print(\"Your total bill is: \",grandtotal)"
   ]
  },
  {
   "cell_type": "code",
   "execution_count": 22,
   "id": "d15da7f1",
   "metadata": {},
   "outputs": [],
   "source": [
    "# Control Statement:\n",
    "#     break: compeletly stops the program\n",
    "#     continue: executes the program"
   ]
  },
  {
   "cell_type": "code",
   "execution_count": 23,
   "id": "638f876f",
   "metadata": {},
   "outputs": [
    {
     "name": "stdout",
     "output_type": "stream",
     "text": [
      "0\n",
      "1\n",
      "2\n",
      "3\n",
      "4\n"
     ]
    }
   ],
   "source": [
    "for i in range(10):\n",
    "    if i == 5:\n",
    "        break\n",
    "    print(i)"
   ]
  },
  {
   "cell_type": "code",
   "execution_count": 24,
   "id": "0b9e3bff",
   "metadata": {},
   "outputs": [
    {
     "name": "stdout",
     "output_type": "stream",
     "text": [
      "Hello World"
     ]
    }
   ],
   "source": [
    "a= \"Hello World. This is Python class.\"\n",
    "for i in a:\n",
    "    if i != \".\":\n",
    "        print(i, end=\"\")\n",
    "    else:\n",
    "        break"
   ]
  },
  {
   "cell_type": "code",
   "execution_count": 25,
   "id": "bc172c3d",
   "metadata": {},
   "outputs": [
    {
     "name": "stdout",
     "output_type": "stream",
     "text": [
      "Hello World This is Python class"
     ]
    }
   ],
   "source": [
    "a= \"Hello World. This is Python class.\"\n",
    "for i in a:\n",
    "    if i != \".\":\n",
    "        print(i, end=\"\")\n",
    "    else:\n",
    "        continue"
   ]
  },
  {
   "cell_type": "code",
   "execution_count": 26,
   "id": "350c8865",
   "metadata": {},
   "outputs": [
    {
     "name": "stdout",
     "output_type": "stream",
     "text": [
      "0 1 2 3 4 6 7 8 9 "
     ]
    }
   ],
   "source": [
    "for i in range(10):\n",
    "    if i == 5:\n",
    "        continue\n",
    "    print(i, end=\" \")"
   ]
  },
  {
   "cell_type": "code",
   "execution_count": 5,
   "id": "17aca0f2",
   "metadata": {},
   "outputs": [
    {
     "name": "stdout",
     "output_type": "stream",
     "text": [
      "Enter a number: 4\n",
      "4  is composite\n"
     ]
    }
   ],
   "source": [
    "# WAP to detect if the given number is prime or composite\n",
    "\n",
    "n = int(input(\"Enter a number: \"))\n",
    "if n>1:\n",
    "    for i in range(2, n):\n",
    "        if n%i == 0:\n",
    "            print(n,\" is composite\")\n",
    "            break\n",
    "    else:\n",
    "        print(n,\" is prime\")\n",
    "else:\n",
    "    print(\"Value should be greater than 1\")\n",
    "        "
   ]
  },
  {
   "cell_type": "code",
   "execution_count": 7,
   "id": "14f60975",
   "metadata": {},
   "outputs": [
    {
     "name": "stdout",
     "output_type": "stream",
     "text": [
      "\n",
      "*\n",
      "**\n",
      "***\n",
      "****\n"
     ]
    }
   ],
   "source": [
    "for i in range(5):\n",
    "    print(\"*\"*i)"
   ]
  },
  {
   "cell_type": "code",
   "execution_count": 8,
   "id": "962ede5c",
   "metadata": {},
   "outputs": [
    {
     "name": "stdout",
     "output_type": "stream",
     "text": [
      "*****\n",
      "****\n",
      "***\n",
      "**\n",
      "*\n",
      "\n"
     ]
    }
   ],
   "source": [
    "for i in range(5,-1,-1):\n",
    "    print(\"*\"*i)"
   ]
  },
  {
   "cell_type": "code",
   "execution_count": 13,
   "id": "bc5a9a4f",
   "metadata": {},
   "outputs": [
    {
     "name": "stdout",
     "output_type": "stream",
     "text": [
      "     *\n",
      "    ***\n",
      "   *****\n",
      "  *******\n",
      "    **\n",
      "    **\n",
      "    **\n"
     ]
    }
   ],
   "source": [
    "n = 5\n",
    "for i in range(1,n):\n",
    "    print((n-i)*\" \",\"*\"*(2*i-1))\n",
    "for i in range(3):\n",
    "    print(\" \"*3,\"*\"*2)"
   ]
  },
  {
   "cell_type": "code",
   "execution_count": 29,
   "id": "aea74a4d",
   "metadata": {},
   "outputs": [
    {
     "name": "stdout",
     "output_type": "stream",
     "text": [
      "*\n",
      "***\n",
      "*****\n",
      "*******\n",
      "*********\n",
      "*\n",
      "***\n",
      "*****\n",
      "*******\n",
      "*********\n",
      "*\n",
      "*\n",
      "*\n"
     ]
    }
   ],
   "source": [
    "n = 10\n",
    "for i in range(1,n,2):\n",
    "    print(\"*\"*i)\n",
    "for i in range(1,n,2):\n",
    "    print(\"*\"*i)\n",
    "for i in range(3):\n",
    "    print(\"*\"*1)"
   ]
  },
  {
   "cell_type": "code",
   "execution_count": 18,
   "id": "58798946",
   "metadata": {},
   "outputs": [
    {
     "name": "stdout",
     "output_type": "stream",
     "text": [
      "Enter n = 7\n",
      "Enter a = 2\n",
      "Enter b = 3\n",
      "Fibonacci series:  2 3 5 8 13 21 34 "
     ]
    }
   ],
   "source": [
    "n = int(input(\"Enter n = \"))\n",
    "a = int(input(\"Enter a = \"))\n",
    "b = int(input(\"Enter b = \"))\n",
    "print(\"Fibonacci series: \", end=\" \")\n",
    "for i in range(n):\n",
    "    print(a, end = \" \")\n",
    "    a,b = b, a+b"
   ]
  },
  {
   "cell_type": "code",
   "execution_count": 30,
   "id": "329ec151",
   "metadata": {},
   "outputs": [],
   "source": [
    "# while loop syntax\n",
    "# while <condition>:\n",
    "#     <operation>"
   ]
  },
  {
   "cell_type": "code",
   "execution_count": 3,
   "id": "cd40ca50",
   "metadata": {},
   "outputs": [
    {
     "name": "stdout",
     "output_type": "stream",
     "text": [
      "0 Hello World\n",
      "1 Hello World\n",
      "2 Hello World\n",
      "3 Hello World\n",
      "4 Hello World\n",
      "5 Hello World\n"
     ]
    }
   ],
   "source": [
    "a = 0\n",
    "while a<=5:\n",
    "    print(a,\"Hello World\")\n",
    "    a = a+1"
   ]
  },
  {
   "cell_type": "code",
   "execution_count": 4,
   "id": "d1377b6d",
   "metadata": {},
   "outputs": [
    {
     "name": "stdout",
     "output_type": "stream",
     "text": [
      "5 Hello World\n",
      "4 Hello World\n",
      "3 Hello World\n",
      "2 Hello World\n",
      "1 Hello World\n",
      "0 Hello World\n"
     ]
    }
   ],
   "source": [
    "a = 5\n",
    "while a>=0:\n",
    "    print(a,\"Hello World\")\n",
    "    a = a-1"
   ]
  },
  {
   "cell_type": "code",
   "execution_count": 6,
   "id": "2f3fb460",
   "metadata": {},
   "outputs": [
    {
     "name": "stdout",
     "output_type": "stream",
     "text": [
      "Enter n = 3\n",
      "3 * 1 = 3\n",
      "3 * 2 = 6\n",
      "3 * 3 = 9\n",
      "3 * 4 = 12\n",
      "3 * 5 = 15\n",
      "3 * 6 = 18\n",
      "3 * 7 = 21\n",
      "3 * 8 = 24\n",
      "3 * 9 = 27\n",
      "3 * 10 = 30\n"
     ]
    }
   ],
   "source": [
    "i = 1\n",
    "n = int(input(\"Enter n = \"))\n",
    "while i<=10:\n",
    "    print(n,\"*\",i,\"=\",n*i)\n",
    "    i = i+1"
   ]
  },
  {
   "cell_type": "code",
   "execution_count": 4,
   "id": "b5d312e1",
   "metadata": {},
   "outputs": [
    {
     "name": "stdout",
     "output_type": "stream",
     "text": [
      "Enter n = 4\n",
      "Factorial of the number is:  24\n"
     ]
    }
   ],
   "source": [
    "i = 1\n",
    "fac = 1\n",
    "n = int(input(\"Enter n = \"))\n",
    "while i<=n:\n",
    "    fac = fac*i\n",
    "    i = i+1\n",
    "print(\"Factorial of the number is: \",fac)"
   ]
  },
  {
   "cell_type": "code",
   "execution_count": 22,
   "id": "d63cbc1a",
   "metadata": {},
   "outputs": [
    {
     "name": "stdout",
     "output_type": "stream",
     "text": [
      "Enter n = 5\n",
      "Enter a = 0\n",
      "Enter b = 1\n",
      "Fibonacci series:  0 1 1 2 3 5 "
     ]
    }
   ],
   "source": [
    "n = int(input(\"Enter n = \"))\n",
    "a = int(input(\"Enter a = \"))\n",
    "b = int(input(\"Enter b = \"))\n",
    "print(\"Fibonacci series: \", end=\" \")\n",
    "while a<=n:\n",
    "    print(a, end = \" \")\n",
    "    a,b = b, a+b"
   ]
  },
  {
   "cell_type": "code",
   "execution_count": null,
   "id": "4715577f",
   "metadata": {},
   "outputs": [],
   "source": []
  }
 ],
 "metadata": {
  "kernelspec": {
   "display_name": "Python 3 (ipykernel)",
   "language": "python",
   "name": "python3"
  },
  "language_info": {
   "codemirror_mode": {
    "name": "ipython",
    "version": 3
   },
   "file_extension": ".py",
   "mimetype": "text/x-python",
   "name": "python",
   "nbconvert_exporter": "python",
   "pygments_lexer": "ipython3",
   "version": "3.9.12"
  }
 },
 "nbformat": 4,
 "nbformat_minor": 5
}
