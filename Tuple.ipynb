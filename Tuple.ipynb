{
 "cells": [
  {
   "cell_type": "code",
   "execution_count": 1,
   "id": "2af5d019",
   "metadata": {},
   "outputs": [],
   "source": [
    "# Tuple:\n",
    "#     -Support indexing\n",
    "#     -Ordered datatype: The output is same as the input defined\n",
    "#     -Support multiple and duplicate data\n",
    "#     -Immutable datatype\n",
    "#     -Static data are stored in tuple. Dynamic data like of database is not stored here\n",
    "#     -Lightweight\n",
    "#     - min(), max(), sum() functions can be used\n",
    "\n",
    "# Q) Why tuple is immutable?\n",
    "# -> We cannot create, append(), insert() and extend()\n",
    "# Once created we cannot update and delete.\n",
    "# No del, remove, pop()\n",
    "# No sort(), reverse()"
   ]
  },
  {
   "cell_type": "code",
   "execution_count": 4,
   "id": "22db6701",
   "metadata": {},
   "outputs": [
    {
     "name": "stdout",
     "output_type": "stream",
     "text": [
      "<class 'tuple'>\n",
      "<class 'tuple'>\n",
      "(1, 2, 3, 4, 5, 5)\n",
      "('Apple', 'Ball')\n"
     ]
    }
   ],
   "source": [
    "a = (1,2,3,4,5)\n",
    "b = (\"Apple\", \"Ball\")\n",
    "print(type(a))\n",
    "print(type(b))\n",
    "print(a)\n",
    "print(b)"
   ]
  },
  {
   "cell_type": "code",
   "execution_count": 6,
   "id": "9c254328",
   "metadata": {},
   "outputs": [
    {
     "name": "stdout",
     "output_type": "stream",
     "text": [
      "Apple\n",
      "2\n"
     ]
    }
   ],
   "source": [
    "print(b[0])\n",
    "print(a[1])"
   ]
  },
  {
   "cell_type": "code",
   "execution_count": 7,
   "id": "41f66635",
   "metadata": {},
   "outputs": [
    {
     "name": "stdout",
     "output_type": "stream",
     "text": [
      "('Apple', 'Ball')\n"
     ]
    }
   ],
   "source": [
    "print(b)"
   ]
  },
  {
   "cell_type": "code",
   "execution_count": 8,
   "id": "06b8ac83",
   "metadata": {},
   "outputs": [
    {
     "name": "stdout",
     "output_type": "stream",
     "text": [
      "('Apple', 'Ball', 'Cat', 'Ball')\n"
     ]
    }
   ],
   "source": [
    "a = (\"Apple\",\"Ball\",\"Cat\",\"Ball\")\n",
    "print(a)"
   ]
  },
  {
   "cell_type": "code",
   "execution_count": 10,
   "id": "8d2f8b09",
   "metadata": {},
   "outputs": [
    {
     "name": "stdout",
     "output_type": "stream",
     "text": [
      "(1, 2, 3, 4, 5, 6)\n"
     ]
    }
   ],
   "source": [
    "a = (1,2,3)\n",
    "b = (4,5,6)\n",
    "c = a+b\n",
    "print(c)"
   ]
  },
  {
   "cell_type": "code",
   "execution_count": 12,
   "id": "2187bd04",
   "metadata": {},
   "outputs": [
    {
     "name": "stdout",
     "output_type": "stream",
     "text": [
      "1\n"
     ]
    }
   ],
   "source": [
    "# To define one value inside tuple then we should end with comma otherwise it will be integer\n",
    "\n",
    "t = (1,)\n",
    "print(t)"
   ]
  },
  {
   "cell_type": "code",
   "execution_count": 13,
   "id": "92b88440",
   "metadata": {},
   "outputs": [
    {
     "name": "stdout",
     "output_type": "stream",
     "text": [
      "Enter n = 3\n",
      "Enter x = 1\n",
      "Enter x = 2\n",
      "Enter x = 3\n",
      "(1, 2, 3)\n"
     ]
    }
   ],
   "source": [
    "t = ()\n",
    "n = int(input(\"Enter n = \"))\n",
    "for i in range(n):\n",
    "    x = int(input(\"Enter x = \"))\n",
    "    t = t + (x,)\n",
    "print(t)"
   ]
  },
  {
   "cell_type": "code",
   "execution_count": 15,
   "id": "e7892acc",
   "metadata": {},
   "outputs": [
    {
     "name": "stdout",
     "output_type": "stream",
     "text": [
      "Enter n = 5\n",
      "Enter x = 344\n",
      "Enter x = 567\n",
      "Enter x = 899\n",
      "Enter x = 12\n",
      "Enter x = 456\n",
      "(344, 567, 899, 12, 456)\n",
      "Maximum value: 899\n",
      "Minimum value: 12\n",
      "Sum: 2278\n"
     ]
    }
   ],
   "source": [
    "t = ()\n",
    "n = int(input(\"Enter n = \"))\n",
    "for i in range(n):\n",
    "    x = int(input(\"Enter x = \"))\n",
    "    t = t + (x,)\n",
    "print(t)\n",
    "print(\"Maximum value:\",max(t))\n",
    "print(\"Minimum value:\",min(t))\n",
    "print(\"Sum:\",sum(t))"
   ]
  },
  {
   "cell_type": "code",
   "execution_count": 16,
   "id": "39c519c7",
   "metadata": {},
   "outputs": [
    {
     "name": "stdout",
     "output_type": "stream",
     "text": [
      "(10, 20, 30, 40, 50)\n"
     ]
    }
   ],
   "source": [
    "a = 10,20,30,40,50\n",
    "print(a)"
   ]
  },
  {
   "cell_type": "code",
   "execution_count": 20,
   "id": "9adb30c2",
   "metadata": {},
   "outputs": [
    {
     "name": "stdout",
     "output_type": "stream",
     "text": [
      "(30, 40, 50)\n"
     ]
    }
   ],
   "source": [
    "# Tuple to List\n",
    "\n",
    "b = list(a)\n",
    "del b[0]\n",
    "a = tuple(b)\n",
    "print(a)"
   ]
  },
  {
   "cell_type": "code",
   "execution_count": 24,
   "id": "aae67195",
   "metadata": {},
   "outputs": [
    {
     "name": "stdout",
     "output_type": "stream",
     "text": [
      "[[1, 2, 3], [4, 5, 6], [7, 8, 9]]\n"
     ]
    }
   ],
   "source": [
    "# Tuple inside Tuple\n",
    "\n",
    "l = []\n",
    "a = ((1,2,3),(4,5,6),(7,8,9))\n",
    "for i in a:\n",
    "    l.append(list(i))\n",
    "print(l)  "
   ]
  },
  {
   "cell_type": "code",
   "execution_count": 34,
   "id": "792eb336",
   "metadata": {},
   "outputs": [
    {
     "name": "stdout",
     "output_type": "stream",
     "text": [
      "((1, 2, 3), (4, 5, 6), (7, 8, 9))\n"
     ]
    }
   ],
   "source": [
    "# Converting list inside list to tuple inside tuple\n",
    "\n",
    "t = ()\n",
    "a = [[1, 2, 3], [4, 5, 6], [7, 8, 9]]\n",
    "for i in a:\n",
    "    tu =  tuple(i)\n",
    "    t = t + (tu,)\n",
    "print(t)"
   ]
  }
 ],
 "metadata": {
  "kernelspec": {
   "display_name": "Python 3 (ipykernel)",
   "language": "python",
   "name": "python3"
  },
  "language_info": {
   "codemirror_mode": {
    "name": "ipython",
    "version": 3
   },
   "file_extension": ".py",
   "mimetype": "text/x-python",
   "name": "python",
   "nbconvert_exporter": "python",
   "pygments_lexer": "ipython3",
   "version": "3.9.12"
  }
 },
 "nbformat": 4,
 "nbformat_minor": 5
}
