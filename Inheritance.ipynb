{
 "cells": [
  {
   "cell_type": "code",
   "execution_count": 1,
   "id": "2ba19d47",
   "metadata": {},
   "outputs": [],
   "source": [
    "# class A:      # parent class\n",
    "#     pass\n",
    "\n",
    "# class B(A):   # child class\n",
    "#     pass\n",
    "\n",
    "# In inheritance we make object of child class\n",
    "\n",
    "# obj = B(A)"
   ]
  },
  {
   "cell_type": "code",
   "execution_count": 1,
   "id": "6bd99fa4",
   "metadata": {},
   "outputs": [
    {
     "name": "stdout",
     "output_type": "stream",
     "text": [
      "Enter phone: 9889898989\n",
      "Enter name: Rubina\n",
      "Enter address: Pepsicola\n",
      "Enter age: 23\n",
      "Hello, I am Rubina. I am 23 years ols. I am from Pepsicola. You can contact me on 9889898989\n"
     ]
    }
   ],
   "source": [
    "class Data:\n",
    "    def __init__(self):\n",
    "        self.phone = int(input(\"Enter phone: \"))\n",
    "        self.address = input(\"Enter address: \")\n",
    "        self.age = int(input(\"Enter age: \"))\n",
    "        \n",
    "    def my_data(this):\n",
    "        print(this.name,this.age,this.address)\n",
    "        \n",
    "class Info(Data):\n",
    "    def __init__(self):\n",
    "        self.name = input(\"Enter name: \")\n",
    "        Data.__init__(self)\n",
    "    \n",
    "    def my_info(self):\n",
    "        return f\"Hello, I am {self.name}. I am {self.age} years old. I am from {self.address}. You can contact me on {self.phone}\"\n",
    "    \n",
    "obj = Info()\n",
    "print(obj.my_info())"
   ]
  },
  {
   "cell_type": "code",
   "execution_count": 2,
   "id": "8ce7eae7",
   "metadata": {},
   "outputs": [],
   "source": [
    "# Mutilevel Inheritance\n",
    "\n",
    "# class A:\n",
    "#     pass\n",
    "# class B:\n",
    "#     pass\n",
    "# class C(A,B):\n",
    "#     pass\n",
    "\n",
    "# obj = C()"
   ]
  },
  {
   "cell_type": "code",
   "execution_count": 7,
   "id": "72e2559c",
   "metadata": {},
   "outputs": [
    {
     "name": "stdout",
     "output_type": "stream",
     "text": [
      "Enter name: Rubina\n",
      "Enter phone: 9898989898\n",
      "Enter address: Pepsicola\n",
      "Enter age: 23\n"
     ]
    },
    {
     "data": {
      "text/plain": [
       "'Hello, I am Rubina. I am 23 years old. I am from Pepsicola. You can contact me on 9898989898'"
      ]
     },
     "execution_count": 7,
     "metadata": {},
     "output_type": "execute_result"
    }
   ],
   "source": [
    "# Mutilevel Inheritance\n",
    "\n",
    "class Main:\n",
    "    def __init__(self,phone):\n",
    "        self.phone = phone\n",
    "\n",
    "class Data(Main):\n",
    "    def __init__(self,address,phone):\n",
    "        self.address =  address\n",
    "        Main.__init__(self,phone)\n",
    "        \n",
    "    def my_data(self):\n",
    "        print(self.address)\n",
    "        \n",
    "class Info(Data):\n",
    "    def __init__(self,name,age,address,phone):\n",
    "        self.name = name\n",
    "        self.age = age\n",
    "        Data.__init__(self,address,phone)\n",
    "    \n",
    "    def my_info(self):\n",
    "        return f\"Hello, I am {self.name}. I am {self.age} years old. I am from {self.address}. You can contact me on {self.phone}\"\n",
    "\n",
    "    \n",
    "name = input(\"Enter name: \")\n",
    "phone = int(input(\"Enter phone: \"))\n",
    "address = input(\"Enter address: \")\n",
    "age = int(input(\"Enter age: \"))\n",
    "obj = Info(name,age,address,phone)\n",
    "obj.my_info()"
   ]
  },
  {
   "cell_type": "code",
   "execution_count": 1,
   "id": "a6bc6708",
   "metadata": {},
   "outputs": [
    {
     "name": "stdout",
     "output_type": "stream",
     "text": [
      "Enter name: Ram\n",
      "Enter phone: 9898989898\n",
      "Enter address: Kathmandu\n",
      "Enter age: 45\n"
     ]
    },
    {
     "data": {
      "text/plain": [
       "'Hello, I am Ram. I am 45 years old. I am from Kathmandu. You can contact me on 9898989898'"
      ]
     },
     "execution_count": 1,
     "metadata": {},
     "output_type": "execute_result"
    }
   ],
   "source": [
    "# Muti-class Inheritance\n",
    "\n",
    "class Main:\n",
    "    def __init__(self,phone):\n",
    "        self.phone = phone\n",
    "\n",
    "class Data:\n",
    "    def __init__(self,address):\n",
    "        self.address =  address\n",
    "        \n",
    "    def my_data(self):\n",
    "        print(self.address)\n",
    "        \n",
    "class Info(Main,Data):\n",
    "    def __init__(self,name,age,address,phone):\n",
    "        self.name = name\n",
    "        self.age = age\n",
    "        Data.__init__(self,address)\n",
    "        Main.__init__(self,phone)\n",
    "    \n",
    "    def my_info(self):\n",
    "        return f\"Hello, I am {self.name}. I am {self.age} years old. I am from {self.address}. You can contact me on {self.phone}\"\n",
    "\n",
    "    \n",
    "name = input(\"Enter name: \")\n",
    "phone = int(input(\"Enter phone: \"))\n",
    "address = input(\"Enter address: \")\n",
    "age = int(input(\"Enter age: \"))\n",
    "obj = Info(name,age,address,phone)\n",
    "obj.my_info()"
   ]
  },
  {
   "cell_type": "code",
   "execution_count": 2,
   "id": "bf15783e",
   "metadata": {},
   "outputs": [],
   "source": [
    "# Private, Public, Protected Attributes"
   ]
  },
  {
   "cell_type": "code",
   "execution_count": 3,
   "id": "47caa86a",
   "metadata": {},
   "outputs": [
    {
     "name": "stdout",
     "output_type": "stream",
     "text": [
      "Ram 45 Kathmandu\n"
     ]
    }
   ],
   "source": [
    "# Public Attribute\n",
    "\n",
    "class Info:\n",
    "    def __init__(self,name,age,address):\n",
    "        self.name = name\n",
    "        self.age = age\n",
    "        self.address = address\n",
    "\n",
    "obj = Info(\"Ram\",45,\"Kathmandu\")\n",
    "print(obj.name,obj.age,obj.address)"
   ]
  },
  {
   "cell_type": "code",
   "execution_count": 4,
   "id": "9d8326c2",
   "metadata": {},
   "outputs": [
    {
     "name": "stdout",
     "output_type": "stream",
     "text": [
      "Ram 45 Kathmandu\n"
     ]
    }
   ],
   "source": [
    "# Protected Attribute (Single underscore and can be accessed form outside using double underscore)\n",
    "\n",
    "class Info:\n",
    "    def __init__(self,name,age,address):\n",
    "        self._name = name\n",
    "        self._age = age\n",
    "        self._address = address\n",
    "\n",
    "obj = Info(\"Ram\",45,\"Kathmandu\")\n",
    "print(obj._name,obj._age,obj._address)"
   ]
  },
  {
   "cell_type": "code",
   "execution_count": 5,
   "id": "0b835e10",
   "metadata": {},
   "outputs": [
    {
     "ename": "AttributeError",
     "evalue": "'Info' object has no attribute '__name'",
     "output_type": "error",
     "traceback": [
      "\u001b[1;31m---------------------------------------------------------------------------\u001b[0m",
      "\u001b[1;31mAttributeError\u001b[0m                            Traceback (most recent call last)",
      "Input \u001b[1;32mIn [5]\u001b[0m, in \u001b[0;36m<cell line: 10>\u001b[1;34m()\u001b[0m\n\u001b[0;32m      7\u001b[0m         \u001b[38;5;28mself\u001b[39m\u001b[38;5;241m.\u001b[39m__address \u001b[38;5;241m=\u001b[39m address\n\u001b[0;32m      9\u001b[0m obj \u001b[38;5;241m=\u001b[39m Info(\u001b[38;5;124m\"\u001b[39m\u001b[38;5;124mRam\u001b[39m\u001b[38;5;124m\"\u001b[39m,\u001b[38;5;241m45\u001b[39m,\u001b[38;5;124m\"\u001b[39m\u001b[38;5;124mKathmandu\u001b[39m\u001b[38;5;124m\"\u001b[39m)\n\u001b[1;32m---> 10\u001b[0m \u001b[38;5;28mprint\u001b[39m(\u001b[43mobj\u001b[49m\u001b[38;5;241;43m.\u001b[39;49m\u001b[43m__name\u001b[49m,obj\u001b[38;5;241m.\u001b[39m__age,obj\u001b[38;5;241m.\u001b[39m__address)\n",
      "\u001b[1;31mAttributeError\u001b[0m: 'Info' object has no attribute '__name'"
     ]
    }
   ],
   "source": [
    "# Private Attribute (Double underscore and cannot be accessed form outside even using double underscore)\n",
    "\n",
    "class Info:\n",
    "    def __init__(self,name,age,address):\n",
    "        self.__name = name\n",
    "        self.__age = age\n",
    "        self.__address = address\n",
    "\n",
    "obj = Info(\"Ram\",45,\"Kathmandu\")\n",
    "print(obj.__name,obj.__age,obj.__address)"
   ]
  },
  {
   "cell_type": "code",
   "execution_count": 1,
   "id": "4604926c",
   "metadata": {},
   "outputs": [
    {
     "name": "stdout",
     "output_type": "stream",
     "text": [
      "Enter name: Ram\n",
      "Enter address: Kathmandu\n",
      "Enter age: 34\n",
      "Hello, I am Ram. I am from Kathmandu\n",
      "Ram 34 Kathmandu\n",
      "Ram\n"
     ]
    }
   ],
   "source": [
    "class Data:\n",
    "    def __init__(self):\n",
    "        self.name = input(\"Enter name: \")           # Public\n",
    "        self._address = input(\"Enter address: \")    # Protected\n",
    "        self.__age = int(input(\"Enter age: \"))      # Private\n",
    "        \n",
    "    def my_data(self):\n",
    "        print(self.name,self.__age,self._address)\n",
    "        \n",
    "class Info(Data):\n",
    "    def my_info(self):\n",
    "        return f\"Hello, I am {self.name}. I am from {self._address}\"\n",
    "    \n",
    "obj = Info()\n",
    "print(obj.my_info())\n",
    "obj.my_data()\n",
    "print(obj.name)"
   ]
  },
  {
   "cell_type": "code",
   "execution_count": 4,
   "id": "f5eaefde",
   "metadata": {},
   "outputs": [
    {
     "name": "stdout",
     "output_type": "stream",
     "text": [
      "Parrot can fly\n",
      "Penguin can't fly\n",
      "Parrot can't swim\n",
      "Penguin can swim\n"
     ]
    }
   ],
   "source": [
    "# Polymorphism\n",
    "\n",
    "class Parrot:\n",
    "    def fly(self):\n",
    "        print(\"Parrot can fly\")\n",
    "\n",
    "    def swim(self):\n",
    "        print(\"Parrot can't swim\")\n",
    "\n",
    "class Penguin:\n",
    "    def fly(self):\n",
    "        print(\"Penguin can't fly\")\n",
    "\n",
    "    def swim(self):\n",
    "        print(\"Penguin can swim\")\n",
    "\n",
    "# common interface\n",
    "def flying_test(bird):\n",
    "    bird.fly()\n",
    "    \n",
    "def swim_test(fish):\n",
    "    fish.swim()\n",
    "    \n",
    "#instantiate objects\n",
    "blu = Parrot()\n",
    "peggy = Penguin()\n",
    "\n",
    "blu1 = Parrot()\n",
    "peggy1 = Penguin()\n",
    "\n",
    "# passing the object\n",
    "flying_test(blu)\n",
    "flying_test(peggy)\n",
    "\n",
    "swim_test(blu1)\n",
    "swim_test(peggy1)"
   ]
  },
  {
   "cell_type": "code",
   "execution_count": 6,
   "id": "70fb1d23",
   "metadata": {},
   "outputs": [
    {
     "name": "stdout",
     "output_type": "stream",
     "text": [
      "Ram 45 Kathmandu\n",
      "Ram\n",
      "<class '__main__.Info'>\n"
     ]
    }
   ],
   "source": [
    "# Str method: __str__ (return type function and only return string)\n",
    "\n",
    "class Info:\n",
    "    def __init__(self,name,age,address):\n",
    "        self.name = name\n",
    "        self.age = age\n",
    "        self.address = address\n",
    "        \n",
    "    def __str__(self):\n",
    "        return self.name\n",
    "\n",
    "obj = Info(\"Ram\",45,\"Kathmandu\")\n",
    "print(obj.name,obj.age,obj.address)\n",
    "print(obj)\n",
    "print(type(obj))"
   ]
  }
 ],
 "metadata": {
  "kernelspec": {
   "display_name": "Python 3 (ipykernel)",
   "language": "python",
   "name": "python3"
  },
  "language_info": {
   "codemirror_mode": {
    "name": "ipython",
    "version": 3
   },
   "file_extension": ".py",
   "mimetype": "text/x-python",
   "name": "python",
   "nbconvert_exporter": "python",
   "pygments_lexer": "ipython3",
   "version": "3.9.12"
  }
 },
 "nbformat": 4,
 "nbformat_minor": 5
}
