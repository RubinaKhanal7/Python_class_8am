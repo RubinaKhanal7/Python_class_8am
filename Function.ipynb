{
 "cells": [
  {
   "cell_type": "code",
   "execution_count": 1,
   "id": "ac9e37aa",
   "metadata": {},
   "outputs": [],
   "source": [
    "# Function:\n",
    "#     - Types: Pre-defined function: print(), float(), int(), str(), tuple(), set(), dict()\n",
    "#              User defined function"
   ]
  },
  {
   "cell_type": "code",
   "execution_count": 2,
   "id": "8233c8b4",
   "metadata": {},
   "outputs": [],
   "source": [
    "# Syntax:\n",
    "# def <function_name>:   defining function\n",
    "#     <operation>\n",
    "# <function_name>        calling function"
   ]
  },
  {
   "cell_type": "code",
   "execution_count": 3,
   "id": "5fa1e87b",
   "metadata": {},
   "outputs": [
    {
     "name": "stdout",
     "output_type": "stream",
     "text": [
      "Hello World\n"
     ]
    }
   ],
   "source": [
    "def hello():\n",
    "    print(\"Hello World\")\n",
    "\n",
    "hello()"
   ]
  },
  {
   "cell_type": "code",
   "execution_count": 6,
   "id": "7db5bac0",
   "metadata": {},
   "outputs": [
    {
     "name": "stdout",
     "output_type": "stream",
     "text": [
      "Enter l = 3\n",
      "Enter b = 4\n",
      "Area:  12\n"
     ]
    }
   ],
   "source": [
    "def cal():\n",
    "    l = int(input(\"Enter l = \"))  # local variable\n",
    "    b = int(input(\"Enter b = \"))  # local variable\n",
    "    a = l*b\n",
    "    print(\"Area: \",a)\n",
    "cal()"
   ]
  },
  {
   "cell_type": "code",
   "execution_count": 1,
   "id": "f33ae0cc",
   "metadata": {},
   "outputs": [
    {
     "name": "stdout",
     "output_type": "stream",
     "text": [
      "Enter l = 4\n",
      "Enter b = 5\n",
      "Area 20\n"
     ]
    }
   ],
   "source": [
    "l = int(input(\"Enter l = \"))  # global variable\n",
    "b = int(input(\"Enter b = \"))  # global variable\n",
    "def cal():\n",
    "    a = l*b\n",
    "    print(\"Area\",a)\n",
    "cal()"
   ]
  },
  {
   "cell_type": "code",
   "execution_count": 2,
   "id": "683fe107",
   "metadata": {},
   "outputs": [
    {
     "name": "stdout",
     "output_type": "stream",
     "text": [
      "Enter l = 5\n",
      "Enter b = 6\n",
      "Area 30\n"
     ]
    }
   ],
   "source": [
    "# Function without argument\n",
    "\n",
    "def cal():\n",
    "    global l,b\n",
    "    l = int(input(\"Enter l = \"))  # global variable\n",
    "    b = int(input(\"Enter b = \"))  # global variable\n",
    "    a = l*b\n",
    "    print(\"Area\",a)\n",
    "cal()"
   ]
  },
  {
   "cell_type": "code",
   "execution_count": 3,
   "id": "971825f7",
   "metadata": {},
   "outputs": [
    {
     "name": "stdout",
     "output_type": "stream",
     "text": [
      "Enter l = 5\n",
      "Enter b = 6\n",
      "Area 30\n"
     ]
    }
   ],
   "source": [
    "# Argument: function carries value\n",
    "# Function with argument\n",
    "\n",
    "def cal(l,b):                # l and b are parameters\n",
    "    a = l*b\n",
    "    print(\"Area\",a)\n",
    "\n",
    "l = int(input(\"Enter l = \"))  # global variable\n",
    "b = int(input(\"Enter b = \"))  # global variable\n",
    "cal(l,b)                      # l and b are arguments"
   ]
  },
  {
   "cell_type": "code",
   "execution_count": 4,
   "id": "83b4b567",
   "metadata": {},
   "outputs": [
    {
     "name": "stdout",
     "output_type": "stream",
     "text": [
      "Enter name: Rubina\n",
      "Enter age: 23\n",
      "Enter address: Kathmandu\n",
      "Hello, I am Rubina. I am from Kathmandu. I am 23 years old.\n"
     ]
    }
   ],
   "source": [
    "def info(name,age,address):\n",
    "    data = f\"Hello, I am {name}. I am from {address}. I am {age} years old.\"\n",
    "    print(data)\n",
    "    \n",
    "name = input(\"Enter name: \")\n",
    "age = int(input(\"Enter age: \"))\n",
    "address = input(\"Enter address: \")\n",
    "info(name,age,address)"
   ]
  },
  {
   "cell_type": "code",
   "execution_count": 5,
   "id": "2f486883",
   "metadata": {},
   "outputs": [
    {
     "name": "stdout",
     "output_type": "stream",
     "text": [
      "C\n",
      "C++\n",
      "Java\n",
      "Python\n"
     ]
    }
   ],
   "source": [
    "# assigining default value\n",
    "# if argument is given then, the value is replaced by the given argument. Otherwise the default value is printed\n",
    "\n",
    "def language(lan = \"Python\"):\n",
    "    print(lan)\n",
    "    \n",
    "language(\"C\")\n",
    "language(\"C++\")\n",
    "language(\"Java\")\n",
    "language()"
   ]
  },
  {
   "cell_type": "code",
   "execution_count": 6,
   "id": "435c2d75",
   "metadata": {},
   "outputs": [
    {
     "name": "stdout",
     "output_type": "stream",
     "text": [
      "Enter name: Ram\n",
      "Enter age: 45\n",
      "Enter address: Kathmandu\n",
      "Hello, I am Ram. I am from Kathmandu, Nepal. I am 45 years old.\n"
     ]
    }
   ],
   "source": [
    "# The values passed as argument and parameter should be same number. If default value of any one parameter is given then the \n",
    "# values passed in parameter and argument maynot be same as well.\n",
    "\n",
    "def info(name,age,address, country=\"Nepal\"):\n",
    "    data = f\"Hello, I am {name}. I am from {address}, {country}. I am {age} years old.\"\n",
    "    print(data)\n",
    "    \n",
    "name = input(\"Enter name: \")\n",
    "age = int(input(\"Enter age: \"))\n",
    "address = input(\"Enter address: \")\n",
    "\n",
    "info(name,age,address)"
   ]
  },
  {
   "cell_type": "code",
   "execution_count": 7,
   "id": "a47067d2",
   "metadata": {},
   "outputs": [
    {
     "name": "stdout",
     "output_type": "stream",
     "text": [
      "Enter name: Ram\n",
      "Enter age: 56\n",
      "Enter address: Kathmandu\n",
      "Enter country: \n",
      "Hello, I am Ram. I am from Kathmandu, Nepal. I am 56 years old.\n"
     ]
    }
   ],
   "source": [
    "def info(name,age,address, country=\"Nepal\"):\n",
    "    data = f\"Hello, I am {name}. I am from {address}, {country}. I am {age} years old.\"\n",
    "    print(data)\n",
    "    \n",
    "name = input(\"Enter name: \")\n",
    "age = int(input(\"Enter age: \"))\n",
    "address = input(\"Enter address: \")\n",
    "country = input(\"Enter country: \")\n",
    "\n",
    "if country == \"\":\n",
    "    info(name,age,address)\n",
    "else:\n",
    "    info(name,age,address,country)"
   ]
  },
  {
   "cell_type": "code",
   "execution_count": 10,
   "id": "03c96393",
   "metadata": {},
   "outputs": [
    {
     "name": "stdout",
     "output_type": "stream",
     "text": [
      "Hello\n",
      "Hello World\n"
     ]
    }
   ],
   "source": [
    "# Return type function :  returns the value and that value can be used for other purpose\n",
    "\n",
    "def hello():\n",
    "    return \"Hello\"\n",
    "\n",
    "x = hello()\n",
    "y = x + \" World\"\n",
    "print(x)\n",
    "print(y)"
   ]
  },
  {
   "cell_type": "code",
   "execution_count": 11,
   "id": "1b35f681",
   "metadata": {},
   "outputs": [
    {
     "name": "stdout",
     "output_type": "stream",
     "text": [
      "(50, 300)\n"
     ]
    }
   ],
   "source": [
    "# Return multiple values\n",
    "\n",
    "def cal():\n",
    "    l = 10\n",
    "    b = 5\n",
    "    h = 6\n",
    "    a = l*b\n",
    "    v = l*b*h\n",
    "    return a,v\n",
    "\n",
    "print(cal())"
   ]
  },
  {
   "cell_type": "code",
   "execution_count": 5,
   "id": "d6e1c039",
   "metadata": {},
   "outputs": [
    {
     "name": "stdout",
     "output_type": "stream",
     "text": [
      "Enter a = 4\n",
      "Enter b = 2\n",
      "Enter operator: +,-,*,/ = /\n",
      "2.0\n"
     ]
    }
   ],
   "source": [
    "def add(a,b):\n",
    "    return a+b\n",
    "\n",
    "def sub(a,b):\n",
    "    return a-b\n",
    "\n",
    "def mul(a,b):\n",
    "    return a*b\n",
    "\n",
    "def div(a,b):\n",
    "    return a/b\n",
    "\n",
    "a = int(input(\"Enter a = \"))\n",
    "b = int(input(\"Enter b = \"))\n",
    "operator = input(\"Enter operator: +,-,*,/ = \")\n",
    "if operator == \"+\":\n",
    "    print(add(a,b))\n",
    "    \n",
    "elif operator == \"-\":\n",
    "    print(sub(a,b))\n",
    "\n",
    "elif operator == \"*\":\n",
    "    print(mul(a,b))\n",
    "    \n",
    "elif operator == \"/\":\n",
    "    if b == 0:\n",
    "        print(\"Cannot be divided by 0\")\n",
    "    else:\n",
    "        print(div(a,b))\n",
    "\n",
    "else:\n",
    "    print(\"Invalid operator\")\n",
    "    "
   ]
  },
  {
   "cell_type": "code",
   "execution_count": null,
   "id": "a74983db",
   "metadata": {},
   "outputs": [],
   "source": [
    "# Recursive Function: The function that calls itself"
   ]
  },
  {
   "cell_type": "code",
   "execution_count": null,
   "id": "6d594aa6",
   "metadata": {},
   "outputs": [],
   "source": [
    "def hello():\n",
    "    print(\"Hello world\")\n",
    "    hello()       # recursive function\n",
    "    \n",
    "hello()"
   ]
  },
  {
   "cell_type": "code",
   "execution_count": 2,
   "id": "602fb81f",
   "metadata": {},
   "outputs": [
    {
     "name": "stdout",
     "output_type": "stream",
     "text": [
      "Hello world\n",
      "Enter y for more print: y\n",
      "Hello world\n",
      "Enter y for more print: exit\n"
     ]
    }
   ],
   "source": [
    "def hello():\n",
    "    print(\"Hello world\")\n",
    "    x = input(\"Enter y for more print: \")\n",
    "    if x == 'y':\n",
    "        hello()       # recursive function\n",
    "    \n",
    "hello()"
   ]
  },
  {
   "cell_type": "code",
   "execution_count": 3,
   "id": "4dc330ab",
   "metadata": {},
   "outputs": [
    {
     "name": "stdout",
     "output_type": "stream",
     "text": [
      "25\n"
     ]
    }
   ],
   "source": [
    "# Lambda function: anonymous function\n",
    "\n",
    "# Syntax:\n",
    "#   lambda <argument>:<expression or operation>\n",
    "\n",
    "x = lambda a:a**2\n",
    "print(x(5))"
   ]
  },
  {
   "cell_type": "code",
   "execution_count": 4,
   "id": "41346edd",
   "metadata": {},
   "outputs": [
    {
     "name": "stdout",
     "output_type": "stream",
     "text": [
      "12\n"
     ]
    }
   ],
   "source": [
    "x = lambda l,b:l*b\n",
    "print(x(3,4))"
   ]
  },
  {
   "cell_type": "code",
   "execution_count": 6,
   "id": "3df91324",
   "metadata": {},
   "outputs": [
    {
     "name": "stdout",
     "output_type": "stream",
     "text": [
      "hello world\n"
     ]
    }
   ],
   "source": [
    "x = lambda a:a.lower()\n",
    "print(x(\"Hello World\"))"
   ]
  },
  {
   "cell_type": "code",
   "execution_count": 7,
   "id": "155efef0",
   "metadata": {},
   "outputs": [],
   "source": [
    "# filter function : there is expression in lambda function. Condition is used in filter\n",
    "# map function    : there is operation in lambda function"
   ]
  },
  {
   "cell_type": "code",
   "execution_count": 12,
   "id": "d466f828",
   "metadata": {},
   "outputs": [
    {
     "name": "stdout",
     "output_type": "stream",
     "text": [
      "[0, 2, 4, 6, 8, 10]\n"
     ]
    }
   ],
   "source": [
    "# Filter Function\n",
    "\n",
    "l = [0,1,2,3,4,5,6,7,8,9,10]\n",
    "result = list(filter(lambda x:x%2==0,l))\n",
    "print(result)"
   ]
  },
  {
   "cell_type": "code",
   "execution_count": 14,
   "id": "2002798e",
   "metadata": {},
   "outputs": [
    {
     "name": "stdout",
     "output_type": "stream",
     "text": [
      "['Apple', 'Cat']\n"
     ]
    }
   ],
   "source": [
    "a = [\"Apple\",\"ball\",\"Cat\",\"dog\"]\n",
    "result = list(filter(lambda x:x[0].isupper(),a))\n",
    "print(result)"
   ]
  },
  {
   "cell_type": "code",
   "execution_count": 15,
   "id": "b38e167f",
   "metadata": {},
   "outputs": [
    {
     "name": "stdout",
     "output_type": "stream",
     "text": [
      "['ball', 'dog']\n"
     ]
    }
   ],
   "source": [
    "a = [\"Apple\",\"ball\",\"Cat\",\"dog\"]\n",
    "result = list(filter(lambda x:x[0].islower(),a))\n",
    "print(result)"
   ]
  },
  {
   "cell_type": "code",
   "execution_count": 16,
   "id": "36ce9ae3",
   "metadata": {},
   "outputs": [
    {
     "name": "stdout",
     "output_type": "stream",
     "text": [
      "[0, 1, 4, 9, 16, 25, 36, 49, 64, 81, 100]\n"
     ]
    }
   ],
   "source": [
    "# Map Function\n",
    "\n",
    "l = [0,1,2,3,4,5,6,7,8,9,10]\n",
    "result = list(map(lambda x:x**2,l))\n",
    "print(result)"
   ]
  },
  {
   "cell_type": "code",
   "execution_count": 18,
   "id": "53313417",
   "metadata": {},
   "outputs": [
    {
     "name": "stdout",
     "output_type": "stream",
     "text": [
      "['apple', 'ball', 'cat', 'dog']\n"
     ]
    }
   ],
   "source": [
    "a = [\"Apple\",\"ball\",\"Cat\",\"dog\"]\n",
    "result = list(map(lambda x:x.lower(),a))\n",
    "print(result)"
   ]
  },
  {
   "cell_type": "code",
   "execution_count": 19,
   "id": "d58895e6",
   "metadata": {},
   "outputs": [
    {
     "name": "stdout",
     "output_type": "stream",
     "text": [
      "['APPLE', 'BALL', 'CAT', 'DOG']\n"
     ]
    }
   ],
   "source": [
    "a = [\"Apple\",\"ball\",\"Cat\",\"dog\"]\n",
    "result = list(map(lambda x:x.upper(),a))\n",
    "print(result)s"
   ]
  }
 ],
 "metadata": {
  "kernelspec": {
   "display_name": "Python 3 (ipykernel)",
   "language": "python",
   "name": "python3"
  },
  "language_info": {
   "codemirror_mode": {
    "name": "ipython",
    "version": 3
   },
   "file_extension": ".py",
   "mimetype": "text/x-python",
   "name": "python",
   "nbconvert_exporter": "python",
   "pygments_lexer": "ipython3",
   "version": "3.9.12"
  }
 },
 "nbformat": 4,
 "nbformat_minor": 5
}
