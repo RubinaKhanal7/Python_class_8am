{
 "cells": [
  {
   "cell_type": "code",
   "execution_count": 1,
   "id": "9e575de1",
   "metadata": {},
   "outputs": [],
   "source": [
    "# if <condition>:\n",
    "#     <operation>\n",
    "# elif <condition>:\n",
    "#     <operation>\n",
    "# else:\n",
    "#     <operation>"
   ]
  },
  {
   "cell_type": "code",
   "execution_count": 4,
   "id": "d36364ce",
   "metadata": {},
   "outputs": [],
   "source": [
    "# comparison operator: > < >= <= == !="
   ]
  },
  {
   "cell_type": "code",
   "execution_count": 2,
   "id": "5fb2522b",
   "metadata": {
    "scrolled": true
   },
   "outputs": [
    {
     "name": "stdout",
     "output_type": "stream",
     "text": [
      "Enter a number-5\n",
      "The given number is negative\n"
     ]
    }
   ],
   "source": [
    "a= int(input(\"Enter a number\"))\n",
    "if a>=0:\n",
    "    print(\"The given number is positive\")\n",
    "else:\n",
    "    print(\"The given number is negative\")"
   ]
  },
  {
   "cell_type": "code",
   "execution_count": 6,
   "id": "9cfd2043",
   "metadata": {},
   "outputs": [
    {
     "name": "stdout",
     "output_type": "stream",
     "text": [
      "Enter value of num: 5\n",
      "The given number is odd\n"
     ]
    }
   ],
   "source": [
    "num = int(input(\"Enter value of num: \"))\n",
    "if num%2==0:\n",
    "    print(\"The given number is even\")\n",
    "else:\n",
    "    print(\"The given number is odd\")"
   ]
  },
  {
   "cell_type": "code",
   "execution_count": 1,
   "id": "df9025e4",
   "metadata": {},
   "outputs": [
    {
     "name": "stdout",
     "output_type": "stream",
     "text": [
      "Enter english marks: 90\n",
      "Enter maths marks: 89\n",
      "Enter science marks: 78\n",
      "Enter social marks: 89\n",
      "Enter economics marks: 87\n",
      "The percentage of a student is:  86.6\n",
      "The grade is A\n"
     ]
    }
   ],
   "source": [
    "# Find grade\n",
    "\n",
    "english = int(input(\"Enter english marks: \"))\n",
    "maths = int(input(\"Enter maths marks: \"))\n",
    "science = int(input(\"Enter science marks: \"))\n",
    "social = int(input(\"Enter social marks: \"))\n",
    "economics = int(input(\"Enter economics marks: \"))\n",
    "\n",
    "percentage = ((english+maths+science+social+economics)/5)\n",
    "\n",
    "print(\"The percentage of a student is: \", percentage)\n",
    "if percentage>=90 and percentage<=100:\n",
    "    print(\"The grade is A+\")\n",
    "elif percentage>=80 and percentage<90:\n",
    "    print(\"The grade is A\")\n",
    "elif percentage>=70 and percentage<80:\n",
    "    print(\"The grade is B+\")\n",
    "elif percentage>=60 and percentage<70:\n",
    "    print(\"The grade is B\")\n",
    "elif percentage>=50 and percentage<60:\n",
    "    print(\"The grade is C+\")\n",
    "elif percentage>=40 and percentage<50:\n",
    "    print(\"The grade is C\")\n",
    "else:\n",
    "    print(\"Failed\")"
   ]
  },
  {
   "cell_type": "code",
   "execution_count": 2,
   "id": "fe2f2d50",
   "metadata": {},
   "outputs": [
    {
     "name": "stdout",
     "output_type": "stream",
     "text": [
      "Enter a= 45\n",
      "Enter b= 67\n",
      "B is greater\n"
     ]
    }
   ],
   "source": [
    "a = int(input(\"Enter a= \"))\n",
    "b =  int(input(\"Enter b= \"))\n",
    "if a>b:\n",
    "    print(\"A is greater\")\n",
    "elif b>a:\n",
    "    print(\"B is greater\")\n",
    "else:\n",
    "    print(\"Both are equal\")"
   ]
  },
  {
   "cell_type": "code",
   "execution_count": 3,
   "id": "74684478",
   "metadata": {},
   "outputs": [
    {
     "name": "stdout",
     "output_type": "stream",
     "text": [
      "Enter english marks: 90\n",
      "Enter maths marks: 89\n",
      "Enter science marks: 91\n",
      "Enter social marks: 92\n",
      "Enter economics marks: 94\n",
      "The percentage of a student is:  91.2\n",
      "Grade=  A\n"
     ]
    }
   ],
   "source": [
    "# Find grade\n",
    "\n",
    "english = int(input(\"Enter english marks: \"))\n",
    "maths = int(input(\"Enter maths marks: \"))\n",
    "science = int(input(\"Enter science marks: \"))\n",
    "social = int(input(\"Enter social marks: \"))\n",
    "economics = int(input(\"Enter economics marks: \"))\n",
    "\n",
    "percentage = ((english+maths+science+social+economics)/5)\n",
    "\n",
    "if percentage>=80:\n",
    "    grade = 'A'\n",
    "elif percentage>=60:\n",
    "    grade = 'B'\n",
    "elif percentage>=45:\n",
    "    grade = 'C'\n",
    "else:\n",
    "    grade = 'F'\n",
    "    \n",
    "print(\"The percentage of a student is: \", percentage)\n",
    "print(\"Grade= \",grade)"
   ]
  },
  {
   "cell_type": "code",
   "execution_count": 4,
   "id": "a36c01f0",
   "metadata": {},
   "outputs": [],
   "source": [
    "# nested if-else statement\n",
    "# if <condition>:\n",
    "#     if <condition>:\n",
    "#         <operations>\n",
    "#     else:\n",
    "#         <operations>\n",
    "# else:\n",
    "#     <operations>"
   ]
  },
  {
   "cell_type": "code",
   "execution_count": 5,
   "id": "324d18c6",
   "metadata": {},
   "outputs": [],
   "source": [
    "# Logical operator\n",
    "# AND & = if all conditions are true then result is true\n",
    "# OR | = if one of the condition is true then result is true\n",
    "# NOT ^"
   ]
  },
  {
   "cell_type": "code",
   "execution_count": 8,
   "id": "432f4f21",
   "metadata": {},
   "outputs": [
    {
     "name": "stdout",
     "output_type": "stream",
     "text": [
      "Enter english marks: 34\n",
      "Enter maths marks: 56\n",
      "Enter science marks: 78\n",
      "Enter social marks: 90\n",
      "Enter economics marks: 87\n",
      "Your grade is F\n"
     ]
    }
   ],
   "source": [
    "# Find grade using nested statement\n",
    "\n",
    "english = int(input(\"Enter english marks: \"))\n",
    "maths = int(input(\"Enter maths marks: \"))\n",
    "science = int(input(\"Enter science marks: \"))\n",
    "social = int(input(\"Enter social marks: \"))\n",
    "economics = int(input(\"Enter economics marks: \"))\n",
    "\n",
    "if english>=45 and maths>=45 and science>=45 and social>=45 and economics>=45:\n",
    "    total = english+maths+science+social+economics\n",
    "    percentage = total/5\n",
    "\n",
    "    if percentage>=80:\n",
    "        grade = 'A'\n",
    "    elif percentage>=60:\n",
    "        grade = 'B'\n",
    "    elif percentage>=45:\n",
    "        grade = 'C'\n",
    "    else:\n",
    "        grade = 'F'\n",
    "\n",
    "    print(\"Total= \",total)\n",
    "    print(\"The percentage of a student is: \", percentage)\n",
    "    print(\"Grade= \",grade)\n",
    "    \n",
    "else:\n",
    "    print(\"Your grade is F\")"
   ]
  },
  {
   "cell_type": "code",
   "execution_count": 13,
   "id": "1c73a6cb",
   "metadata": {},
   "outputs": [
    {
     "name": "stdout",
     "output_type": "stream",
     "text": [
      "Enter a number: -2\n",
      "-2  is even but negative\n"
     ]
    }
   ],
   "source": [
    "# WAP to find if any number is even or odd / positive or negative using nested if-else\n",
    "\n",
    "num = int(input(\"Enter a number: \"))\n",
    "if num%2==0:\n",
    "    if num>=0:\n",
    "        print(num,\" is even and positive\")\n",
    "    else:\n",
    "        print(num,\" is even but negative\")\n",
    "else:\n",
    "    if num>=0:\n",
    "        print(num,\" is odd and positive\")\n",
    "    else:\n",
    "        print(num,\" is odd but negative\")"
   ]
  },
  {
   "cell_type": "code",
   "execution_count": 15,
   "id": "e551b017",
   "metadata": {},
   "outputs": [
    {
     "name": "stdout",
     "output_type": "stream",
     "text": [
      "Enter a number: -2\n",
      "-2  is even and negative\n"
     ]
    }
   ],
   "source": [
    "# another approach using operators\n",
    "# use pass statment to return null operation and it builds block\n",
    "\n",
    "num = int(input(\"Enter a number: \"))\n",
    "if num%2==0 and num>=0:\n",
    "    print(num,\" is even and positive\")\n",
    "\n",
    "elif num%2==0 and num<0:\n",
    "    print(num,\" is even and negative\")\n",
    "    \n",
    "elif num%2!=0 and num>0:\n",
    "    print(num,\" is odd and positive\")\n",
    "\n",
    "else:\n",
    "    print(num,\" is odd but negative\")\n"
   ]
  },
  {
   "cell_type": "code",
   "execution_count": 1,
   "id": "093a09f4",
   "metadata": {},
   "outputs": [
    {
     "name": "stdout",
     "output_type": "stream",
     "text": [
      "Enter first number: 4\n",
      "Enter second number: 0\n",
      "Pass the operator: /\n",
      "Cannot be divided by 0\n"
     ]
    }
   ],
   "source": [
    "# WAP to create a basic calculator\n",
    "\n",
    "num1 = float(input(\"Enter first number: \"))\n",
    "num2 = float(input(\"Enter second number: \"))\n",
    "operator = input(\"Pass the operator: \")\n",
    "\n",
    "if operator == '+':\n",
    "    print(num1+num2)\n",
    "elif operator == '-':\n",
    "    print(num1-num2)\n",
    "elif operator == '*':\n",
    "    print(num1*num2)\n",
    "elif operator == '/':\n",
    "    if num2!=0:\n",
    "         print(num1/num2)\n",
    "    else:\n",
    "        print(\"Cannot be divided by 0\") \n",
    "else:\n",
    "    print(\"Invalid\")"
   ]
  },
  {
   "cell_type": "code",
   "execution_count": null,
   "id": "714b71eb",
   "metadata": {},
   "outputs": [],
   "source": []
  }
 ],
 "metadata": {
  "kernelspec": {
   "display_name": "Python 3 (ipykernel)",
   "language": "python",
   "name": "python3"
  },
  "language_info": {
   "codemirror_mode": {
    "name": "ipython",
    "version": 3
   },
   "file_extension": ".py",
   "mimetype": "text/x-python",
   "name": "python",
   "nbconvert_exporter": "python",
   "pygments_lexer": "ipython3",
   "version": "3.9.12"
  }
 },
 "nbformat": 4,
 "nbformat_minor": 5
}
