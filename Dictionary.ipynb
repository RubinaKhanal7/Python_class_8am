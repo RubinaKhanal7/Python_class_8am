{
 "cells": [
  {
   "cell_type": "code",
   "execution_count": 1,
   "id": "13386b01",
   "metadata": {},
   "outputs": [],
   "source": [
    "# Dictionary:\n",
    "#    -supports index or key\n",
    "#    - multiple and duplicate data but unique key. If the key is same even with different data then it replaces the data\n",
    "#    - ordered\n",
    "#    - mutable\n",
    "#    - mapping\n",
    "#    - there are no + and * operators so concatination is not possible"
   ]
  },
  {
   "cell_type": "code",
   "execution_count": 4,
   "id": "15279b5f",
   "metadata": {},
   "outputs": [],
   "source": [
    "# Syntax\n",
    "# d = {<key>:<value>, <key>:<value>}"
   ]
  },
  {
   "cell_type": "code",
   "execution_count": 2,
   "id": "c5fa39b9",
   "metadata": {},
   "outputs": [
    {
     "name": "stdout",
     "output_type": "stream",
     "text": [
      "<class 'dict'>\n"
     ]
    }
   ],
   "source": [
    "d={}\n",
    "d = dict()\n",
    "print(type(d))"
   ]
  },
  {
   "cell_type": "code",
   "execution_count": 6,
   "id": "419b056c",
   "metadata": {},
   "outputs": [
    {
     "name": "stdout",
     "output_type": "stream",
     "text": [
      "{'a': 'Apple', 'b': 'Ball', 'c': 'Cat'}\n",
      "<class 'dict'>\n"
     ]
    }
   ],
   "source": [
    "d = {'a':'Apple', 'b':'Ball', 'c':'Cat'}\n",
    "print(d)\n",
    "print(type(d))"
   ]
  },
  {
   "cell_type": "code",
   "execution_count": 7,
   "id": "5b1eaa46",
   "metadata": {},
   "outputs": [
    {
     "name": "stdout",
     "output_type": "stream",
     "text": [
      "Apple\n"
     ]
    }
   ],
   "source": [
    "print(d['a'])"
   ]
  },
  {
   "cell_type": "code",
   "execution_count": 9,
   "id": "6479489e",
   "metadata": {},
   "outputs": [
    {
     "name": "stdout",
     "output_type": "stream",
     "text": [
      "{'a': 'Apple', 'b': 'Ball', 'c': 'Cat', 'A': 'Apple'}\n"
     ]
    }
   ],
   "source": [
    "d = {'a':'Apple', 'b':'Ball', 'c':'Cat', 'A':'Apple'}\n",
    "print(d)"
   ]
  },
  {
   "cell_type": "code",
   "execution_count": 10,
   "id": "3020e3fe",
   "metadata": {},
   "outputs": [
    {
     "name": "stdout",
     "output_type": "stream",
     "text": [
      "{'a': 'apple', 'b': 'Ball', 'c': 'Cat'}\n"
     ]
    }
   ],
   "source": [
    "d = {'a':'Apple', 'b':'Ball', 'c':'Cat', 'a':'apple'}\n",
    "print(d)"
   ]
  },
  {
   "cell_type": "code",
   "execution_count": 12,
   "id": "6234bd57",
   "metadata": {},
   "outputs": [
    {
     "name": "stdout",
     "output_type": "stream",
     "text": [
      "{1: 1, 2: 4, 3: 9, 4: 16, 'a': 'Apple'}\n"
     ]
    }
   ],
   "source": [
    "d = {1:1, 2:4, 3:9, 4:16, 'a':'Apple'}\n",
    "print(d)"
   ]
  },
  {
   "cell_type": "code",
   "execution_count": 14,
   "id": "051f9afc",
   "metadata": {},
   "outputs": [
    {
     "name": "stdout",
     "output_type": "stream",
     "text": [
      "dict_keys(['a', 'b', 'c'])\n",
      "dict_values(['Apple', 'Ball', 'Cat'])\n",
      "dict_items([('a', 'Apple'), ('b', 'Ball'), ('c', 'Cat')])\n"
     ]
    }
   ],
   "source": [
    "d = {'a': 'Apple', 'b': 'Ball', 'c': 'Cat'}\n",
    "print(d.keys())\n",
    "print(d.values())\n",
    "print(d.items())"
   ]
  },
  {
   "cell_type": "code",
   "execution_count": 15,
   "id": "ade85976",
   "metadata": {},
   "outputs": [
    {
     "name": "stdout",
     "output_type": "stream",
     "text": [
      "{1: 1, 2: 4, 3: 9, 4: 16}\n"
     ]
    }
   ],
   "source": [
    "d = {}\n",
    "d[1] = 1\n",
    "d[2] = 4\n",
    "d[3] = 9\n",
    "d[4] = 16\n",
    "print(d)"
   ]
  },
  {
   "cell_type": "code",
   "execution_count": 17,
   "id": "e7b8a11d",
   "metadata": {},
   "outputs": [
    {
     "name": "stdout",
     "output_type": "stream",
     "text": [
      "4\n"
     ]
    }
   ],
   "source": [
    "d = {1: 1, 2: 4, 3: 9, 4: 16}\n",
    "print(len(d))"
   ]
  },
  {
   "cell_type": "code",
   "execution_count": 18,
   "id": "efb1e603",
   "metadata": {},
   "outputs": [
    {
     "name": "stdout",
     "output_type": "stream",
     "text": [
      "Enter n = 1\n",
      "Enter name: Krishna\n",
      "Enter phone number: 9876456372\n",
      "{'Krishna': 9876456372}\n"
     ]
    }
   ],
   "source": [
    "d = {}\n",
    "n = int(input(\"Enter n = \"))\n",
    "for i in range(n):\n",
    "    name = input(\"Enter name: \")\n",
    "    phone = int(input(\"Enter phone number: \"))\n",
    "    d[name] = phone\n",
    "print(d)"
   ]
  },
  {
   "cell_type": "code",
   "execution_count": 19,
   "id": "13fee344",
   "metadata": {},
   "outputs": [
    {
     "name": "stdout",
     "output_type": "stream",
     "text": [
      "9876456372\n"
     ]
    }
   ],
   "source": [
    "print(d['Krishna'])"
   ]
  },
  {
   "cell_type": "code",
   "execution_count": 22,
   "id": "57739c89",
   "metadata": {},
   "outputs": [
    {
     "name": "stdout",
     "output_type": "stream",
     "text": [
      "{'Krishna': 9999999999}\n"
     ]
    }
   ],
   "source": [
    "# Update\n",
    "\n",
    "d['Krishna'] = 9999999999\n",
    "print(d)"
   ]
  },
  {
   "cell_type": "code",
   "execution_count": 23,
   "id": "5678feb0",
   "metadata": {},
   "outputs": [
    {
     "name": "stdout",
     "output_type": "stream",
     "text": [
      "{'Krishna': 9876456372}\n"
     ]
    }
   ],
   "source": [
    "# Delete:  if we use del and delete the whole dictionary then it removes dictionary from memory\n",
    "\n",
    "d = {'Krishna': 9876456372, 'Shyam': 9857657654}\n",
    "del d['Shyam']\n",
    "print(d)"
   ]
  },
  {
   "cell_type": "code",
   "execution_count": 24,
   "id": "a25f6198",
   "metadata": {},
   "outputs": [
    {
     "name": "stdout",
     "output_type": "stream",
     "text": [
      "9876456372\n"
     ]
    }
   ],
   "source": [
    "d = {'Krishna': 9876456372, 'Shyam': 9857657654}\n",
    "b = d.pop('Krishna')\n",
    "print(b)"
   ]
  },
  {
   "cell_type": "code",
   "execution_count": 25,
   "id": "2d3aa968",
   "metadata": {},
   "outputs": [
    {
     "name": "stdout",
     "output_type": "stream",
     "text": [
      "{'Krishna': 9876456372, 'Shyam': 9857657654, 'Radha': 980675894, 'Hari': 9857647632}\n"
     ]
    }
   ],
   "source": [
    "# Concatination without using operators\n",
    "\n",
    "a = {'Krishna': 9876456372, 'Shyam': 9857657654}\n",
    "b = {'Radha': 980675894, 'Hari': 9857647632}\n",
    "a.update(b)\n",
    "print(a)"
   ]
  },
  {
   "cell_type": "code",
   "execution_count": 27,
   "id": "2d7336da",
   "metadata": {},
   "outputs": [
    {
     "name": "stdout",
     "output_type": "stream",
     "text": [
      "[9875647657, 9875645342]\n",
      "9875647657\n"
     ]
    }
   ],
   "source": [
    "# List inside dictionary\n",
    "\n",
    "d = {'Ram':[9875647657, 9875645342],\n",
    "     'Sakxham':[9857645673, 9875674653],\n",
    "     'Shyam':[9875674563, 9874653645]\n",
    "    }\n",
    "print(d['Ram'])\n",
    "print(d['Ram'][0])"
   ]
  },
  {
   "cell_type": "code",
   "execution_count": 39,
   "id": "611b88a1",
   "metadata": {},
   "outputs": [
    {
     "name": "stdout",
     "output_type": "stream",
     "text": [
      "Enter n = 2\n",
      "Enter name: Ram\n",
      "Enter age: 34\n",
      "Enter address: Kathmandu\n",
      "Enter name: Hari\n",
      "Enter age: 23\n",
      "Enter address: Chitwan\n",
      "{1: ['Ram', 34, 'Kathmandu'], 2: ['Hari', 23, 'Chitwan']}\n"
     ]
    }
   ],
   "source": [
    "d = {}\n",
    "n = int(input(\"Enter n = \"))\n",
    "for i in range(1, n+1):\n",
    "    name = input(\"Enter name: \")\n",
    "    age = int(input(\"Enter age: \"))\n",
    "    address = input(\"Enter address: \")\n",
    "    d[i] = [name,age,address]\n",
    "print(d)"
   ]
  },
  {
   "cell_type": "code",
   "execution_count": 40,
   "id": "bb54bda7",
   "metadata": {},
   "outputs": [
    {
     "name": "stdout",
     "output_type": "stream",
     "text": [
      "{1: ['Ram', 46, 'Kathmandu'], 2: ['Hari', 23, 'Chitwan']}\n"
     ]
    }
   ],
   "source": [
    "d[1] = ['Ram', 46, 'Kathmandu']\n",
    "print(d)"
   ]
  },
  {
   "cell_type": "code",
   "execution_count": 44,
   "id": "fd4301d4",
   "metadata": {},
   "outputs": [
    {
     "name": "stdout",
     "output_type": "stream",
     "text": [
      "{'name': ['Ram', 'Shyam', 'Hari'], 'ntc': [9857645635, 9865463543, 9865463753], 'ncell': [9865546374, 9876453647, 9765364893]}\n"
     ]
    }
   ],
   "source": [
    "d = {'name': ['Ram','Shyam','Hari'],\n",
    "     'ntc': [9857645635, 9865463543, 9865463753],\n",
    "     'ncell': [9865546374, 9876453647, 9765364893]\n",
    "    }\n",
    "print(d)"
   ]
  },
  {
   "cell_type": "code",
   "execution_count": 2,
   "id": "c3b5c6bc",
   "metadata": {},
   "outputs": [
    {
     "name": "stdout",
     "output_type": "stream",
     "text": [
      "Enter n = 2\n",
      "Enter name: Ram\n",
      "Enter NTC number: 9876767677\n",
      "Enter Ncell number: 9897564765\n",
      "Enter name: Shyam\n",
      "Enter NTC number: 9898989898\n",
      "Enter Ncell number: 9876545454\n",
      "{'name': ['Ram', 'Shyam'], 'ntc': [9876767677, 9898989898], 'ncell': [9897564765, 9876545454]}\n"
     ]
    }
   ],
   "source": [
    "# For same key with multiple values\n",
    "\n",
    "d = {'name':[],'ntc':[], 'ncell':[]}\n",
    "n = int(input(\"Enter n = \"))\n",
    "for i in range(1,n+1):\n",
    "    name = input(\"Enter name: \")\n",
    "    ntc = int(input(\"Enter NTC number: \"))\n",
    "    ncell = int(input(\"Enter Ncell number: \"))\n",
    "    d['name'].append(name)\n",
    "    d['ntc'].append(ntc)\n",
    "    d['ncell'].append(ncell)\n",
    "print(d)"
   ]
  },
  {
   "cell_type": "code",
   "execution_count": 5,
   "id": "c6adb3ff",
   "metadata": {},
   "outputs": [],
   "source": [
    "# Add other details like name, ntc, ncell in existing list\n",
    "# Edit the above data\n",
    "# Delete the above data"
   ]
  },
  {
   "cell_type": "code",
   "execution_count": 3,
   "id": "856dd854",
   "metadata": {},
   "outputs": [
    {
     "name": "stdout",
     "output_type": "stream",
     "text": [
      "{'name': ['Ram', 'Shyam', 'Hari'], 'ntc': [9876767677, 9898989898, 9808675867], 'ncell': [9897564765, 9876545454, 9865745658]}\n"
     ]
    }
   ],
   "source": [
    "# Add other details like name, ntc, ncell in existing list\n",
    "\n",
    "a = {'name': ['Ram', 'Shyam'], 'ntc': [9876767677, 9898989898], 'ncell': [9897564765, 9876545454]}\n",
    "a['name'].append('Hari')\n",
    "a['ntc'].append(9808675867)\n",
    "a['ncell'].append(9865745658)\n",
    "print(a)"
   ]
  },
  {
   "cell_type": "code",
   "execution_count": 5,
   "id": "e59e071f",
   "metadata": {},
   "outputs": [
    {
     "name": "stdout",
     "output_type": "stream",
     "text": [
      "{'name': ['Rama', 'Shyam', 'Hari'], 'ntc': [9876767677, 9898989898, 9808675867], 'ncell': [9897564765, 9876545454, 9865745658]}\n"
     ]
    }
   ],
   "source": [
    "# Edit the above data\n",
    "\n",
    "a['name'][0] = 'Rama'\n",
    "print(a)"
   ]
  },
  {
   "cell_type": "code",
   "execution_count": 6,
   "id": "0f868a0d",
   "metadata": {},
   "outputs": [
    {
     "name": "stdout",
     "output_type": "stream",
     "text": [
      "{'name': ['Shyam', 'Hari'], 'ntc': [9898989898, 9808675867], 'ncell': [9876545454, 9865745658]}\n"
     ]
    }
   ],
   "source": [
    "# Delete the above data\n",
    "\n",
    "del a['name'][0]\n",
    "del a['ntc'][0]\n",
    "del a['ncell'][0]\n",
    "print(a)"
   ]
  },
  {
   "cell_type": "code",
   "execution_count": 13,
   "id": "90c551f1",
   "metadata": {},
   "outputs": [
    {
     "name": "stdout",
     "output_type": "stream",
     "text": [
      "{'Ram': {'ntc': 9867567465, 'ncell': 9857647567}, 'Shyam': {'ntc': 9865846846, 'ncell': 9875443434}}\n"
     ]
    }
   ],
   "source": [
    "# Dictionary inside dictionary\n",
    "\n",
    "d = {'Ram':{'ntc':9867567465, 'ncell':9857647567},\n",
    "     'Shyam':{'ntc':9865846846, 'ncell':9875443434}\n",
    "    }\n",
    "print(d)"
   ]
  },
  {
   "cell_type": "code",
   "execution_count": 12,
   "id": "88109a86",
   "metadata": {},
   "outputs": [
    {
     "name": "stdout",
     "output_type": "stream",
     "text": [
      "9867567465\n"
     ]
    }
   ],
   "source": [
    "print(d['Ram']['ntc'])"
   ]
  },
  {
   "cell_type": "code",
   "execution_count": 14,
   "id": "07355b51",
   "metadata": {},
   "outputs": [
    {
     "name": "stdout",
     "output_type": "stream",
     "text": [
      "{'Ram': {'ntc': 9867567465, 'ncell': 9857647567}, 'Shyam': {'ntc': 9865846846, 'ncell': 9875443434}, 'Hari': {'ntc': 9865746535, 'ncell': 9876767676}}\n"
     ]
    }
   ],
   "source": [
    "# To add new value in existing dictionary\n",
    "\n",
    "d['Hari'] = {'ntc':9865746535, 'ncell':9876767676}\n",
    "print(d)"
   ]
  },
  {
   "cell_type": "code",
   "execution_count": 15,
   "id": "762f6b96",
   "metadata": {},
   "outputs": [
    {
     "name": "stdout",
     "output_type": "stream",
     "text": [
      "Enter n = 2\n",
      "Enter name: Ram\n",
      "Enter NTC number: 9879789789\n",
      "Enter Ncell number: 9867876876\n",
      "Enter name: Shyam\n",
      "Enter NTC number: 9090988796\n",
      "Enter Ncell number: 9890978769\n",
      "{1: {'name': 'Ram', 'ntc': 9879789789, 'ncell': 9867876876}, 2: {'name': 'Shyam', 'ntc': 9090988796, 'ncell': 9890978769}}\n"
     ]
    }
   ],
   "source": [
    "d = {}\n",
    "n = int(input(\"Enter n = \"))\n",
    "for i in range(1,n+1):\n",
    "    name = input(\"Enter name: \")\n",
    "    ntc = int(input(\"Enter NTC number: \"))\n",
    "    ncell = int(input(\"Enter Ncell number: \"))\n",
    "    d[i] = {'name':name, 'ntc':ntc, 'ncell':ncell}\n",
    "print(d)"
   ]
  },
  {
   "cell_type": "code",
   "execution_count": 16,
   "id": "c9d0a0c6",
   "metadata": {},
   "outputs": [
    {
     "name": "stdout",
     "output_type": "stream",
     "text": [
      "{'Ram': {'ntc': [9867567465, 9867657645], 'ncell': 9857647567}, 'Shyam': {'ntc': 9865846846, 'ncell': 9875443434}}\n"
     ]
    }
   ],
   "source": [
    "a = {'Ram': {'ntc': [9867567465, 9867657645], 'ncell': 9857647567}, \n",
    "     'Shyam': {'ntc': 9865846846, 'ncell': 9875443434}}\n",
    "print(a)"
   ]
  },
  {
   "cell_type": "code",
   "execution_count": 17,
   "id": "5d5fe7df",
   "metadata": {},
   "outputs": [],
   "source": [
    "# There should be immutable value as key in dictionary"
   ]
  },
  {
   "cell_type": "code",
   "execution_count": 25,
   "id": "f411ebba",
   "metadata": {},
   "outputs": [
    {
     "name": "stdout",
     "output_type": "stream",
     "text": [
      "[{'name': 'Ram', 'ntc': 9879789789, 'ncell': 9867876876}, {'name': 'Shyam', 'ntc': 9879798980, 'ncell': 9867877877}]\n"
     ]
    }
   ],
   "source": [
    "# Dictionary inside list\n",
    "\n",
    "l = [{'name': 'Ram', 'ntc': 9879789789, 'ncell': 9867876876},\n",
    "     {'name': 'Shyam', 'ntc': 9879798980, 'ncell': 9867877877}\n",
    "    ]\n",
    "print(l)"
   ]
  },
  {
   "cell_type": "code",
   "execution_count": 27,
   "id": "7582fd77",
   "metadata": {},
   "outputs": [
    {
     "name": "stdout",
     "output_type": "stream",
     "text": [
      "9879789789\n",
      "9867876876\n"
     ]
    }
   ],
   "source": [
    "print(l[0]['ntc'])\n",
    "print(l[0]['ncell'])"
   ]
  },
  {
   "cell_type": "code",
   "execution_count": 3,
   "id": "fbd4e4c9",
   "metadata": {},
   "outputs": [
    {
     "name": "stdout",
     "output_type": "stream",
     "text": [
      "Enter n = 1\n",
      "Enter m = 1\n",
      "Enter name: Ram\n",
      "Enter NTC number: 9797979797\n",
      "Enter Ncell number: 98989898989\n",
      "[{'name': 'Ram', 'ntc': 9797979797, 'ncell': 98989898989}]\n"
     ]
    }
   ],
   "source": [
    "# WAP to create dictionary inside list and also CRUD\n",
    "\n",
    "l = []\n",
    "n = int(input(\"Enter n = \"))\n",
    "m = int(input(\"Enter m = \"))\n",
    "for i in range(n):\n",
    "    d = {}\n",
    "    for j in range(m):\n",
    "        name = input(\"Enter name: \")\n",
    "        ntc = int(input(\"Enter NTC number: \"))\n",
    "        ncell = int(input(\"Enter Ncell number: \"))\n",
    "        d = {'name':name, 'ntc':ntc, 'ncell':ncell}\n",
    "    l.append(d)\n",
    "print(l)\n",
    "    "
   ]
  },
  {
   "cell_type": "code",
   "execution_count": 11,
   "id": "765ad809",
   "metadata": {},
   "outputs": [
    {
     "name": "stdout",
     "output_type": "stream",
     "text": [
      "[{'name': 'Ram', 'ntc': 9797979797, 'ncell': 98989898989}, {'name': 'Shyam', 'ntc': 9875674563, 'ncell': 9191919192}]\n"
     ]
    }
   ],
   "source": [
    "# Add\n",
    "\n",
    "a = [{'name': 'Ram', 'ntc': 9797979797, 'ncell': 98989898989}]\n",
    "a.append({'name': 'Shyam', 'ntc': 9875674563, 'ncell': 9191919192})\n",
    "print(a)"
   ]
  },
  {
   "cell_type": "code",
   "execution_count": 12,
   "id": "fd2eb6af",
   "metadata": {},
   "outputs": [
    {
     "name": "stdout",
     "output_type": "stream",
     "text": [
      "[{'name': 'Hari', 'ntc': 9797979797, 'ncell': 98989898989}, {'name': 'Shyam', 'ntc': 9875674563, 'ncell': 9191919192}]\n"
     ]
    }
   ],
   "source": [
    "# Edit\n",
    "\n",
    "a = [{'name': 'Ram', 'ntc': 9797979797, 'ncell': 98989898989}, {'name': 'Shyam', 'ntc': 9875674563, 'ncell': 9191919192}]\n",
    "a[0]['name'] = 'Hari'\n",
    "print(a)"
   ]
  },
  {
   "cell_type": "code",
   "execution_count": 15,
   "id": "1b97466d",
   "metadata": {},
   "outputs": [
    {
     "name": "stdout",
     "output_type": "stream",
     "text": [
      "[{'name': 'Shyam', 'ntc': 9875674563, 'ncell': 9191919192}]\n"
     ]
    }
   ],
   "source": [
    "# Delete\n",
    "a = [{'name': 'Ram', 'ntc': 9797979797, 'ncell': 98989898989}, {'name': 'Shyam', 'ntc': 9875674563, 'ncell': 9191919192}]\n",
    "del a[0]\n",
    "print(a)"
   ]
  },
  {
   "cell_type": "code",
   "execution_count": null,
   "id": "1bfd0db9",
   "metadata": {},
   "outputs": [],
   "source": []
  }
 ],
 "metadata": {
  "kernelspec": {
   "display_name": "Python 3 (ipykernel)",
   "language": "python",
   "name": "python3"
  },
  "language_info": {
   "codemirror_mode": {
    "name": "ipython",
    "version": 3
   },
   "file_extension": ".py",
   "mimetype": "text/x-python",
   "name": "python",
   "nbconvert_exporter": "python",
   "pygments_lexer": "ipython3",
   "version": "3.9.12"
  }
 },
 "nbformat": 4,
 "nbformat_minor": 5
}
