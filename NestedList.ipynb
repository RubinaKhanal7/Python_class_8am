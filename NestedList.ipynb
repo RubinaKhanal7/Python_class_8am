{
 "cells": [
  {
   "cell_type": "code",
   "execution_count": 1,
   "id": "a0fc363a",
   "metadata": {},
   "outputs": [],
   "source": [
    "# List inside list"
   ]
  },
  {
   "cell_type": "code",
   "execution_count": 3,
   "id": "1d0809ca",
   "metadata": {},
   "outputs": [
    {
     "name": "stdout",
     "output_type": "stream",
     "text": [
      "[[1, 2, 3], [4, 5, 6], [7, 8, 9]]\n"
     ]
    }
   ],
   "source": [
    "a = [\n",
    "    [1,2,3],\n",
    "    [4,5,6],\n",
    "    [7,8,9]\n",
    "]\n",
    "print(a)"
   ]
  },
  {
   "cell_type": "code",
   "execution_count": 4,
   "id": "4c4d714d",
   "metadata": {},
   "outputs": [
    {
     "name": "stdout",
     "output_type": "stream",
     "text": [
      "[['Ram', 34, 'Kathmandu'], ['Hari', 67, 'Bhaktapur'], ['Krishna', 23, 'Chitwan']]\n"
     ]
    }
   ],
   "source": [
    "a = [\n",
    "    ['Ram', 34, 'Kathmandu'],\n",
    "    ['Hari', 67, 'Bhaktapur'],\n",
    "    ['Krishna', 23, 'Chitwan']\n",
    "]\n",
    "print(a)"
   ]
  },
  {
   "cell_type": "code",
   "execution_count": 5,
   "id": "302c4b49",
   "metadata": {},
   "outputs": [
    {
     "name": "stdout",
     "output_type": "stream",
     "text": [
      "Enter n = 2\n",
      "Enter name = Krishna\n",
      "Enter age = 23\n",
      "Enter address = Kathmandu\n",
      "Enter name = Hari\n",
      "Enter age = 34\n",
      "Enter address = Chitwan\n",
      "[['Krishna', 23, 'Kathmandu'], ['Hari', 34, 'Chitwan']]\n"
     ]
    }
   ],
   "source": [
    "l = []\n",
    "n = int(input(\"Enter n = \"))\n",
    "for i in range(n):\n",
    "    name = input(\"Enter name = \")\n",
    "    age = int(input(\"Enter age = \"))\n",
    "    address = input(\"Enter address = \")\n",
    "    data = [name,age,address]\n",
    "    l.append(data)\n",
    "print(l)"
   ]
  },
  {
   "cell_type": "code",
   "execution_count": 10,
   "id": "d0c6faad",
   "metadata": {},
   "outputs": [
    {
     "name": "stdout",
     "output_type": "stream",
     "text": [
      "['Ram', 34, 'Kathmandu']\n",
      "Ram\n",
      "['Krishna', 23, 'Chitwan']\n",
      "Krishna\n"
     ]
    }
   ],
   "source": [
    "l = [\n",
    "    ['Ram', 34, 'Kathmandu'],\n",
    "    ['Hari', 67, 'Bhaktapur'],\n",
    "    ['Krishna', 23, 'Chitwan']\n",
    "]\n",
    "print(l[0])\n",
    "print(l[0][0])\n",
    "print(l[2])\n",
    "print(l[2][0])"
   ]
  },
  {
   "cell_type": "code",
   "execution_count": 13,
   "id": "0ce08120",
   "metadata": {},
   "outputs": [
    {
     "name": "stdout",
     "output_type": "stream",
     "text": [
      "[['Radha', 34, 'Kathmandu'], ['Hari', 67, 'Bhaktapur'], ['Krishna', 23, 'Chitwan']]\n"
     ]
    }
   ],
   "source": [
    "l = [\n",
    "    ['Ram', 34, 'Kathmandu'],\n",
    "    ['Hari', 67, 'Bhaktapur'],\n",
    "    ['Krishna', 23, 'Chitwan']\n",
    "]\n",
    "l[0][0] = \"Radha\"\n",
    "print(l)"
   ]
  },
  {
   "cell_type": "code",
   "execution_count": 15,
   "id": "13dcb882",
   "metadata": {},
   "outputs": [
    {
     "name": "stdout",
     "output_type": "stream",
     "text": [
      "[[34, 'Kathmandu'], ['Hari', 67, 'Bhaktapur'], ['Krishna', 23, 'Chitwan']]\n"
     ]
    }
   ],
   "source": [
    "l = [\n",
    "    ['Ram', 34, 'Kathmandu'],\n",
    "    ['Hari', 67, 'Bhaktapur'],\n",
    "    ['Krishna', 23, 'Chitwan']\n",
    "]\n",
    "del l[0][0] \n",
    "print(l)"
   ]
  },
  {
   "cell_type": "code",
   "execution_count": 19,
   "id": "d9093a5a",
   "metadata": {},
   "outputs": [
    {
     "name": "stdout",
     "output_type": "stream",
     "text": [
      "['Ram', 34, 'Kathmandu']\n",
      "['Ram', 45, 'Bharatpur']\n"
     ]
    }
   ],
   "source": [
    "l = [\n",
    "    ['Ram', 34, 'Kathmandu'],\n",
    "    ['Hari', 67, 'Bhaktapur'],\n",
    "    ['Krishna', 23, 'Chitwan'],\n",
    "    ['Ram', 45, 'Bharatpur'],\n",
    "]\n",
    "for i in l:\n",
    "    if i[0] == \"Ram\":\n",
    "        print(i)"
   ]
  },
  {
   "cell_type": "code",
   "execution_count": 22,
   "id": "69c4dfca",
   "metadata": {},
   "outputs": [
    {
     "name": "stdout",
     "output_type": "stream",
     "text": [
      "Search name = ram\n",
      "['Ram', 34, 'Kathmandu']\n",
      "['Ram', 45, 'Bharatpur']\n"
     ]
    }
   ],
   "source": [
    "l = [\n",
    "    ['Ram', 34, 'Kathmandu'],\n",
    "    ['Hari', 67, 'Bhaktapur'],\n",
    "    ['Krishna', 23, 'Chitwan'],\n",
    "    ['Ram', 45, 'Bharatpur'],\n",
    "]\n",
    "name = input(\"Search name = \")\n",
    "for i in l:\n",
    "    if i[0].lower() == name.lower():\n",
    "        print(i)"
   ]
  },
  {
   "cell_type": "code",
   "execution_count": 3,
   "id": "f60b915c",
   "metadata": {},
   "outputs": [
    {
     "name": "stdout",
     "output_type": "stream",
     "text": [
      "Enter number of row: 3\n",
      "Enter number of column: 3\n",
      "Enter values : Ram\n",
      "Enter values : 24\n",
      "Enter values : Kathmandu\n",
      "Enter values : Shyam\n",
      "Enter values : 34\n",
      "Enter values : Chitwan\n",
      "Enter values : Hari\n",
      "Enter values : 23\n",
      "Enter values : Bhaktapur\n",
      "The matrix is:  [['Ram', '24', 'Kathmandu'], ['Shyam', '34', 'Chitwan'], ['Hari', '23', 'Bhaktapur']]\n"
     ]
    }
   ],
   "source": [
    "# WAP to create a matrix: list inside list\n",
    "# nested for loop\n",
    "# row = ?\n",
    "# col = ?\n",
    "# x = ?\n",
    "li = []\n",
    "row = int(input(\"Enter number of row: \"))\n",
    "column = int(input(\"Enter number of column: \"))\n",
    "for i in range(row):\n",
    "    rowvalue = []\n",
    "    for j in range(column):\n",
    "        x = input(\"Enter values : \")\n",
    "        rowvalue.append(x)\n",
    "    li.append(rowvalue)\n",
    "print(\"The matrix is: \",li)"
   ]
  },
  {
   "cell_type": "code",
   "execution_count": null,
   "id": "38a954d8",
   "metadata": {},
   "outputs": [],
   "source": []
  }
 ],
 "metadata": {
  "kernelspec": {
   "display_name": "Python 3 (ipykernel)",
   "language": "python",
   "name": "python3"
  },
  "language_info": {
   "codemirror_mode": {
    "name": "ipython",
    "version": 3
   },
   "file_extension": ".py",
   "mimetype": "text/x-python",
   "name": "python",
   "nbconvert_exporter": "python",
   "pygments_lexer": "ipython3",
   "version": "3.9.12"
  }
 },
 "nbformat": 4,
 "nbformat_minor": 5
}
