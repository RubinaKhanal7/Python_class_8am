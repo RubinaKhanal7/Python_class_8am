{
 "cells": [
  {
   "cell_type": "code",
   "execution_count": 1,
   "id": "ab247f27",
   "metadata": {},
   "outputs": [
    {
     "name": "stdout",
     "output_type": "stream",
     "text": [
      "Collecting mysql-connector\n",
      "  Downloading mysql-connector-2.2.9.tar.gz (11.9 MB)\n",
      "Building wheels for collected packages: mysql-connector\n",
      "  Building wheel for mysql-connector (setup.py): started\n",
      "  Building wheel for mysql-connector (setup.py): finished with status 'done'\n",
      "  Created wheel for mysql-connector: filename=mysql_connector-2.2.9-cp39-cp39-win_amd64.whl size=247961 sha256=0f08f5690eeebaff1fa3580c344f995d42263ce4bf9786c9af38e69e67186b1d\n",
      "  Stored in directory: c:\\users\\rubina\\appdata\\local\\pip\\cache\\wheels\\7b\\14\\39\\5aad423666e827dfe9a1fbcd111ac17171e7c9865d570780ce\n",
      "Successfully built mysql-connector\n",
      "Installing collected packages: mysql-connector\n",
      "Successfully installed mysql-connector-2.2.9\n"
     ]
    }
   ],
   "source": [
    "!pip install mysql-connector"
   ]
  },
  {
   "cell_type": "code",
   "execution_count": 1,
   "id": "4a550fff",
   "metadata": {},
   "outputs": [],
   "source": [
    "# Connecting with database\n",
    "\n",
    "import mysql.connector\n",
    "\n",
    "database = mysql.connector.connect(\n",
    "           host=\"localhost\",\n",
    "           user=\"root\",\n",
    "           password=\"\",\n",
    "           database = \"pythons_8am\")\n",
    "db = database.cursor()"
   ]
  },
  {
   "cell_type": "code",
   "execution_count": 2,
   "id": "d94aabc7",
   "metadata": {},
   "outputs": [
    {
     "name": "stdout",
     "output_type": "stream",
     "text": [
      "(1, 'Ram', 80.0, 82.0, 92.0, 94.0, 10.0, 400.0, 80.0, 'A')\n",
      "(2, 'Shyama', 60.0, 70.0, 88.0, 92.0, 89.0, 400.0, 78.0, 'B')\n",
      "(3, 'Krishna', 60.0, 70.0, 78.0, 91.0, 82.0, 400.0, 80.0, 'B+')\n",
      "(4, 'Sakxham', 90.0, 84.0, 78.0, 83.0, 81.0, 400.0, 83.0, 'A')\n",
      "(5, 'Rubina', 94.0, 76.0, 78.0, 83.0, 89.0, 400.0, 83.0, 'A')\n",
      "(7, 'Ansuka', 87.0, 88.0, 72.0, 83.0, 89.0, 400.0, 83.0, 'A')\n",
      "(8, 'Ansuka', 87.0, 88.0, 72.0, 83.0, 89.0, 400.0, 83.0, 'A')\n"
     ]
    }
   ],
   "source": [
    "db.execute(\"SELECT * FROM students\")\n",
    "result =db.fetchall()\n",
    "for x in result:\n",
    "    print(x)"
   ]
  },
  {
   "cell_type": "code",
   "execution_count": 3,
   "id": "3b2c37cf",
   "metadata": {},
   "outputs": [],
   "source": [
    "# To insert value into db table\n",
    "\n",
    "sql = \"\"\"INSERT INTO students (name, physics, chemistry, math, english, nepali, total, per, grade) \n",
    "VALUES ('Ansuka', 87, 88, 72, 83, 89, 400, 83, 'A');\"\"\"\n",
    "db.execute(sql)\n",
    "database.commit()"
   ]
  },
  {
   "cell_type": "code",
   "execution_count": 4,
   "id": "a33b8df9",
   "metadata": {},
   "outputs": [
    {
     "name": "stdout",
     "output_type": "stream",
     "text": [
      "(1, 'Ram', 80.0, 82.0, 92.0, 94.0, 10.0, 400.0, 80.0, 'A')\n",
      "(2, 'Shyama', 60.0, 70.0, 88.0, 92.0, 89.0, 400.0, 78.0, 'B')\n",
      "(3, 'Krishna', 60.0, 70.0, 78.0, 91.0, 82.0, 400.0, 80.0, 'B+')\n",
      "(4, 'Sakxham', 90.0, 84.0, 78.0, 83.0, 81.0, 400.0, 83.0, 'A')\n",
      "(5, 'Rubina', 94.0, 76.0, 78.0, 83.0, 89.0, 400.0, 83.0, 'A')\n",
      "(7, 'Ansuka', 87.0, 88.0, 72.0, 83.0, 89.0, 400.0, 83.0, 'A')\n",
      "(8, 'Ansuka', 87.0, 88.0, 72.0, 83.0, 89.0, 400.0, 83.0, 'A')\n",
      "(9, 'Ansuka', 87.0, 88.0, 72.0, 83.0, 89.0, 400.0, 83.0, 'A')\n"
     ]
    }
   ],
   "source": [
    "# To fetch table values\n",
    "\n",
    "db.execute(\"SELECT * FROM students\")\n",
    "result =db.fetchall()\n",
    "for x in result:\n",
    "    print(x)"
   ]
  },
  {
   "cell_type": "code",
   "execution_count": 5,
   "id": "d307f958",
   "metadata": {},
   "outputs": [],
   "source": [
    "# To delete table value\n",
    "\n",
    "sql = \"DELETE FROM students WHERE sn = 6\"\n",
    "db.execute(sql)\n",
    "database.commit()"
   ]
  },
  {
   "cell_type": "code",
   "execution_count": 6,
   "id": "aeb8b96d",
   "metadata": {},
   "outputs": [],
   "source": [
    "# To update table value\n",
    "\n",
    "sql = \"UPDATE `students` SET `name` = 'Krishna' WHERE `SN` = 3\";\n",
    "db.execute(sql)\n",
    "database.commit()"
   ]
  },
  {
   "cell_type": "code",
   "execution_count": 8,
   "id": "9222d23b",
   "metadata": {},
   "outputs": [
    {
     "name": "stdout",
     "output_type": "stream",
     "text": [
      "Enter name: Siyana\n",
      "Enter physics marks: 79\n",
      "Enter chemistry marks: 78\n",
      "Enter math marks: 77\n",
      "Enter english marks: 76\n",
      "Enter nepali marks: 75\n"
     ]
    }
   ],
   "source": [
    "# WAP to take data from user and insert it to the table also CRUD\n",
    "\n",
    "name = input(\"Enter name: \")\n",
    "physics = float(input(\"Enter physics marks: \"))\n",
    "chemistry = float(input(\"Enter chemistry marks: \"))\n",
    "math = float(input(\"Enter math marks: \"))\n",
    "english = float(input(\"Enter english marks: \"))\n",
    "nepali = float(input(\"Enter nepali marks: \"))\n",
    "total = physics+chemistry+math+english+nepali\n",
    "per = total/5\n",
    "if per>=80:\n",
    "    grade = 'A'\n",
    "elif per>=60:\n",
    "    grade = 'B'\n",
    "elif per>=45:\n",
    "    grade = 'C'\n",
    "else:\n",
    "    grade = 'F'\n",
    "\n",
    "sql = \"\"\"INSERT INTO students (name, physics, chemistry, math, english, nepali, total, per, grade) \n",
    "         VALUES (%s, %s, %s, %s, %s, %s, %s, %s, %s)\"\"\"\n",
    "\n",
    "values = (name, physics, chemistry, math, english, nepali, total, per, grade)\n",
    "\n",
    "db.execute(sql, values)\n",
    "database.commit()"
   ]
  },
  {
   "cell_type": "code",
   "execution_count": 10,
   "id": "15c3e58e",
   "metadata": {},
   "outputs": [],
   "source": [
    "sql = \"DELETE FROM students WHERE sn = 8\"\n",
    "db.execute(sql)\n",
    "database.commit()"
   ]
  },
  {
   "cell_type": "code",
   "execution_count": 11,
   "id": "1faf7c4e",
   "metadata": {},
   "outputs": [],
   "source": [
    "sql = \"UPDATE `students` SET `name` = 'Aanchal' WHERE `SN` = 9\";\n",
    "db.execute(sql)\n",
    "database.commit()"
   ]
  },
  {
   "cell_type": "code",
   "execution_count": 12,
   "id": "c30d191f",
   "metadata": {},
   "outputs": [
    {
     "name": "stdout",
     "output_type": "stream",
     "text": [
      "(1, 'Ram', 80.0, 82.0, 92.0, 94.0, 10.0, 400.0, 80.0, 'A')\n",
      "(2, 'Shyama', 60.0, 70.0, 88.0, 92.0, 89.0, 400.0, 78.0, 'B')\n",
      "(3, 'Krishna', 60.0, 70.0, 78.0, 91.0, 82.0, 400.0, 80.0, 'B+')\n",
      "(4, 'Sakxham', 90.0, 84.0, 78.0, 83.0, 81.0, 400.0, 83.0, 'A')\n",
      "(5, 'Rubina', 94.0, 76.0, 78.0, 83.0, 89.0, 400.0, 83.0, 'A')\n",
      "(7, 'Ansuka', 87.0, 88.0, 72.0, 83.0, 89.0, 400.0, 83.0, 'A')\n",
      "(9, 'Aanchal', 87.0, 88.0, 72.0, 83.0, 89.0, 400.0, 83.0, 'A')\n",
      "(10, 'Siyana', 79.0, 78.0, 77.0, 76.0, 75.0, 385.0, 77.0, 'B')\n"
     ]
    }
   ],
   "source": [
    "db.execute(\"SELECT * FROM students\")\n",
    "result =db.fetchall()\n",
    "for x in result:\n",
    "    print(x)"
   ]
  },
  {
   "cell_type": "code",
   "execution_count": null,
   "id": "fd88cf08",
   "metadata": {},
   "outputs": [],
   "source": []
  }
 ],
 "metadata": {
  "kernelspec": {
   "display_name": "Python 3 (ipykernel)",
   "language": "python",
   "name": "python3"
  },
  "language_info": {
   "codemirror_mode": {
    "name": "ipython",
    "version": 3
   },
   "file_extension": ".py",
   "mimetype": "text/x-python",
   "name": "python",
   "nbconvert_exporter": "python",
   "pygments_lexer": "ipython3",
   "version": "3.9.12"
  }
 },
 "nbformat": 4,
 "nbformat_minor": 5
}
