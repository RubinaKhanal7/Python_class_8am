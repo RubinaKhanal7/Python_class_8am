{
 "cells": [
  {
   "cell_type": "code",
   "execution_count": null,
   "id": "d1062536",
   "metadata": {},
   "outputs": [],
   "source": []
  },
  {
   "cell_type": "code",
   "execution_count": 1,
   "id": "b43bde0b",
   "metadata": {},
   "outputs": [],
   "source": [
    "# operator: Airthemetic operators: + - * / % **= power //= double division Assignment Operator: ="
   ]
  },
  {
   "cell_type": "code",
   "execution_count": 2,
   "id": "38687276",
   "metadata": {},
   "outputs": [
    {
     "name": "stdout",
     "output_type": "stream",
     "text": [
      "5\n"
     ]
    }
   ],
   "source": [
    "a= 2\n",
    "b=3\n",
    "c=a+b\n",
    "print(c)"
   ]
  },
  {
   "cell_type": "code",
   "execution_count": 3,
   "id": "2b05cad1",
   "metadata": {},
   "outputs": [
    {
     "name": "stdout",
     "output_type": "stream",
     "text": [
      "Enter first number: 4\n",
      "Enter second number: 6\n",
      "10\n"
     ]
    }
   ],
   "source": [
    "a= int(input(\"Enter first number: \"))\n",
    "b= int(input(\"Enter second number: \"))\n",
    "c= a+b\n",
    "print(c)"
   ]
  },
  {
   "cell_type": "code",
   "execution_count": 4,
   "id": "9632c2f1",
   "metadata": {},
   "outputs": [
    {
     "name": "stdout",
     "output_type": "stream",
     "text": [
      "2.5\n"
     ]
    }
   ],
   "source": [
    "a=10\n",
    "b=4\n",
    "c=a/b\n",
    "print(c)"
   ]
  },
  {
   "cell_type": "code",
   "execution_count": 7,
   "id": "54e994ac",
   "metadata": {},
   "outputs": [
    {
     "name": "stdout",
     "output_type": "stream",
     "text": [
      "2\n",
      "10000\n",
      "2\n"
     ]
    }
   ],
   "source": [
    "print(a%b)\n",
    "print(a**b)\n",
    "print(a//b)"
   ]
  },
  {
   "cell_type": "code",
   "execution_count": 3,
   "id": "28bb02eb",
   "metadata": {},
   "outputs": [
    {
     "name": "stdout",
     "output_type": "stream",
     "text": [
      "Hello World\n"
     ]
    }
   ],
   "source": [
    "# string concatinate\n",
    "a=\"Hello \"\n",
    "b=\"World\"\n",
    "c= a+b\n",
    "print(c)"
   ]
  },
  {
   "cell_type": "code",
   "execution_count": 6,
   "id": "060ce8ff",
   "metadata": {},
   "outputs": [
    {
     "name": "stdout",
     "output_type": "stream",
     "text": [
      "Hello World\n",
      "Hello World\n",
      "\n"
     ]
    }
   ],
   "source": [
    "# enlarge\n",
    "a= \"Hello World\\n\"\n",
    "print(a*2)"
   ]
  },
  {
   "cell_type": "code",
   "execution_count": 9,
   "id": "1f3cdf5c",
   "metadata": {},
   "outputs": [
    {
     "name": "stdout",
     "output_type": "stream",
     "text": [
      "Enter your name: Rubina\n",
      "Enter your age: 23\n",
      "Enter your address: Kathmandu\n",
      "Hello, I am Rubina I am from Kathmandu I am 23 years old\n"
     ]
    }
   ],
   "source": [
    "name= input(\"Enter your name: \")\n",
    "age = int(input(\"Enter your age: \"))\n",
    "address = input(\"Enter your address: \")\n",
    "info = \"Hello, I am \" + name + \" I am from \" + address + \" I am \" + str(age) + \" years old\"\n",
    "print(info)"
   ]
  },
  {
   "cell_type": "code",
   "execution_count": 11,
   "id": "f8ce4401",
   "metadata": {},
   "outputs": [
    {
     "name": "stdout",
     "output_type": "stream",
     "text": [
      "1\n"
     ]
    }
   ],
   "source": [
    "a= True\n",
    "b= False\n",
    "c = a+b\n",
    "print(c)\n",
    "# explanation : 1+0"
   ]
  },
  {
   "cell_type": "code",
   "execution_count": 12,
   "id": "e2d2823b",
   "metadata": {},
   "outputs": [
    {
     "name": "stdout",
     "output_type": "stream",
     "text": [
      "Enter Principal: 200000\n",
      "Enter Time: 4\n",
      "Enter Rate: 15.6\n",
      "The value of simple interest is:  124800.0\n"
     ]
    }
   ],
   "source": [
    "p= float(input(\"Enter Principal: \"))\n",
    "t = float(input(\"Enter Time: \"))\n",
    "r = float(input(\"Enter Rate: \"))\n",
    "si = p*t*r/100\n",
    "print(\"The value of simple interest is: \",si)"
   ]
  },
  {
   "cell_type": "code",
   "execution_count": 2,
   "id": "882217c0",
   "metadata": {},
   "outputs": [
    {
     "name": "stdout",
     "output_type": "stream",
     "text": [
      "Enter english marks: 50\n",
      "Enter maths marks: 59\n",
      "Enter science marks: 78\n",
      "Enter social marks: 80\n",
      "Enter economics marks: 90\n",
      "The percentage of a student is:  71.4\n"
     ]
    }
   ],
   "source": [
    "english = int(input(\"Enter english marks: \"))\n",
    "maths = int(input(\"Enter maths marks: \"))\n",
    "science = int(input(\"Enter science marks: \"))\n",
    "social = int(input(\"Enter social marks: \"))\n",
    "economics = int(input(\"Enter economics marks: \"))\n",
    "\n",
    "percentage = ((english+maths+science+social+economics)/5)\n",
    "\n",
    "print(\"The percentage of a student is: \", percentage)"
   ]
  },
  {
   "cell_type": "code",
   "execution_count": 4,
   "id": "1e829eba",
   "metadata": {},
   "outputs": [
    {
     "name": "stdout",
     "output_type": "stream",
     "text": [
      "The value of a is greater than 10\n"
     ]
    }
   ],
   "source": [
    "a = 15\n",
    "if a > 10:\n",
    "    print(\"The value of a is greater than 10\")"
   ]
  },
  {
   "cell_type": "code",
   "execution_count": 9,
   "id": "f0ec34de",
   "metadata": {},
   "outputs": [
    {
     "name": "stdout",
     "output_type": "stream",
     "text": [
      "The number 12 is positive\n"
     ]
    }
   ],
   "source": [
    "a = 12\n",
    "if a > 0:\n",
    "    print(f\"The number {a} is positive\")\n",
    "else:\n",
    "    print(f\"The number {a} is positive\")"
   ]
  },
  {
   "cell_type": "code",
   "execution_count": 14,
   "id": "4ce20541",
   "metadata": {},
   "outputs": [
    {
     "name": "stdout",
     "output_type": "stream",
     "text": [
      "Enter a number: 5\n",
      "The given number 5 is positive\n"
     ]
    }
   ],
   "source": [
    "a = int(input(\"Enter a number: \"))\n",
    "if a>0:\n",
    "    print(f\"The given number {a} is positive\")\n",
    "elif a==0:\n",
    "    print(f\"The given number {a} is equal to 0\")\n",
    "else:\n",
    "    print(f\"The given number {a} is negative\")"
   ]
  },
  {
   "cell_type": "code",
   "execution_count": null,
   "id": "88b976c1",
   "metadata": {},
   "outputs": [],
   "source": []
  }
 ],
 "metadata": {
  "kernelspec": {
   "display_name": "Python 3 (ipykernel)",
   "language": "python",
   "name": "python3"
  },
  "language_info": {
   "codemirror_mode": {
    "name": "ipython",
    "version": 3
   },
   "file_extension": ".py",
   "mimetype": "text/x-python",
   "name": "python",
   "nbconvert_exporter": "python",
   "pygments_lexer": "ipython3",
   "version": "3.9.12"
  }
 },
 "nbformat": 4,
 "nbformat_minor": 5
}
