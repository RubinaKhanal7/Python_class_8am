{
 "cells": [
  {
   "cell_type": "code",
   "execution_count": 1,
   "id": "f9f7c2dc",
   "metadata": {},
   "outputs": [],
   "source": [
    "# Error handling\n",
    "\n",
    "# Syntax:\n",
    "# try:\n",
    "#     <Write the code>\n",
    "# except:\n",
    "#     <handle the exception>"
   ]
  },
  {
   "cell_type": "code",
   "execution_count": 7,
   "id": "83094539",
   "metadata": {},
   "outputs": [
    {
     "name": "stdout",
     "output_type": "stream",
     "text": [
      "Enter your age: Ten\n",
      "Age should be in number\n"
     ]
    }
   ],
   "source": [
    "try:\n",
    "    age = int(input(\"Enter your age: \"))\n",
    "except:\n",
    "    print(\"Age should be in number\")"
   ]
  },
  {
   "cell_type": "code",
   "execution_count": 11,
   "id": "abe7b657",
   "metadata": {},
   "outputs": [
    {
     "name": "stdout",
     "output_type": "stream",
     "text": [
      "Enter first number: 5\n",
      "Enter second number: 0\n",
      "Value of second number should not be 0\n"
     ]
    }
   ],
   "source": [
    "try:\n",
    "    num1 = int(input(\"Enter first number: \"))\n",
    "    num2 = int(input(\"Enter second number: \"))\n",
    "    result = num1/num2\n",
    "    print(result)\n",
    "except ValueError:\n",
    "    print(\"num1 and num2 should be in number\")\n",
    "    \n",
    "except ZeroDivisionError:\n",
    "    print(\"Value of second number should not be 0\")"
   ]
  },
  {
   "cell_type": "code",
   "execution_count": 14,
   "id": "37d528f6",
   "metadata": {},
   "outputs": [
    {
     "name": "stdout",
     "output_type": "stream",
     "text": [
      "Enter first number: 4\n",
      "Enter second number: 2\n",
      "2.0\n"
     ]
    }
   ],
   "source": [
    "try:\n",
    "    num1 = int(input(\"Enter first number: \"))\n",
    "    num2 = int(input(\"Enter second number: \"))\n",
    "    result = num1/num2\n",
    "except ValueError:\n",
    "    print(\"num1 and num2 should be in number\")\n",
    "    \n",
    "except ZeroDivisionError:\n",
    "    print(\"Value of second number should not be 0\")\n",
    "\n",
    "else:\n",
    "    print(result)"
   ]
  },
  {
   "cell_type": "code",
   "execution_count": 5,
   "id": "dd453c93",
   "metadata": {},
   "outputs": [
    {
     "name": "stdout",
     "output_type": "stream",
     "text": [
      "Enter your pin: jhfgrygf\n",
      "Pins should be number\n",
      "Enter your pin: 12345\n",
      "Successful Attempt\n",
      "Number of attempts: 2\n"
     ]
    }
   ],
   "source": [
    "correct_pin = 12345\n",
    "attempts = 3\n",
    "\n",
    "for i in range(1, attempts + 1):\n",
    "    try:\n",
    "        pin = int(input(\"Enter your pin: \"))\n",
    "        if pin == correct_pin:\n",
    "            print(\"Successful Attempt\")\n",
    "            print(\"Number of attempts:\", i)\n",
    "            break\n",
    "        else:\n",
    "            print(\"Incorrect pin\")\n",
    "    except ValueError:\n",
    "        print(\"Pins should be number\")\n",
    "else:\n",
    "    print(\"Access denied.\")\n"
   ]
  }
 ],
 "metadata": {
  "kernelspec": {
   "display_name": "Python 3 (ipykernel)",
   "language": "python",
   "name": "python3"
  },
  "language_info": {
   "codemirror_mode": {
    "name": "ipython",
    "version": 3
   },
   "file_extension": ".py",
   "mimetype": "text/x-python",
   "name": "python",
   "nbconvert_exporter": "python",
   "pygments_lexer": "ipython3",
   "version": "3.9.12"
  }
 },
 "nbformat": 4,
 "nbformat_minor": 5
}
