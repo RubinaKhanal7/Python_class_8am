{
 "cells": [
  {
   "cell_type": "code",
   "execution_count": 2,
   "id": "a1377f67",
   "metadata": {},
   "outputs": [
    {
     "name": "stdout",
     "output_type": "stream",
     "text": [
      "<class 'str'> <class 'str'> <class 'str'>\n"
     ]
    }
   ],
   "source": [
    "a = 'Hello World'\n",
    "b = \"Hello World\"\n",
    "c = '''Hello World'''\n",
    "\n",
    "print(type(a),type(b),type(c))"
   ]
  },
  {
   "cell_type": "code",
   "execution_count": 3,
   "id": "acd3d617",
   "metadata": {},
   "outputs": [],
   "source": [
    "# String is immutable datatype. Once declared, it cannot be changed : + *"
   ]
  },
  {
   "cell_type": "code",
   "execution_count": 4,
   "id": "88beafb6",
   "metadata": {},
   "outputs": [
    {
     "name": "stdout",
     "output_type": "stream",
     "text": [
      "HelloWorld\n"
     ]
    }
   ],
   "source": [
    "a = \"Hello \"\n",
    "b = \"World\"\n",
    "c = a+b\n",
    "print(c)"
   ]
  },
  {
   "cell_type": "code",
   "execution_count": 6,
   "id": "a924efcb",
   "metadata": {},
   "outputs": [
    {
     "name": "stdout",
     "output_type": "stream",
     "text": [
      "Hello World\n",
      "Hello World\n",
      "\n"
     ]
    }
   ],
   "source": [
    "a = \"Hello World\\n\"\n",
    "print(a*2)"
   ]
  },
  {
   "cell_type": "code",
   "execution_count": 9,
   "id": "cbeb8622",
   "metadata": {
    "scrolled": true
   },
   "outputs": [
    {
     "name": "stdout",
     "output_type": "stream",
     "text": [
      "e\n",
      "Hello\n",
      "HloWr\n"
     ]
    }
   ],
   "source": [
    "a = \"Hello World\"\n",
    "print(a[1])\n",
    "print(a[0:5]) # string slicing\n",
    "print(a[0:10:2])"
   ]
  },
  {
   "cell_type": "code",
   "execution_count": 10,
   "id": "99509b93",
   "metadata": {},
   "outputs": [
    {
     "name": "stdout",
     "output_type": "stream",
     "text": [
      "Enter a = Hi\n",
      "Hi\n"
     ]
    }
   ],
   "source": [
    "a = input(\"Enter a = \")\n",
    "print(a)"
   ]
  },
  {
   "cell_type": "code",
   "execution_count": 14,
   "id": "62778109",
   "metadata": {},
   "outputs": [
    {
     "name": "stdout",
     "output_type": "stream",
     "text": [
      "Enter name: Rubina\n",
      "Enter age: 23\n",
      "Enter address: Kathmandu\n",
      "Hello, I am Rubina I am 23 years old and I am from Kathmandu\n"
     ]
    }
   ],
   "source": [
    "name = input(\"Enter name: \")\n",
    "age = input(\"Enter age: \")\n",
    "address = input(\"Enter address: \")\n",
    "\n",
    "info = \"Hello, I am \" + name + \" I am \" + str(age) + \" years old and I am from \" + str(address)\n",
    "print(info)"
   ]
  },
  {
   "cell_type": "code",
   "execution_count": 15,
   "id": "66450dc9",
   "metadata": {},
   "outputs": [
    {
     "name": "stdout",
     "output_type": "stream",
     "text": [
      "Enter name: Rubina\n",
      "Enter age: 23\n",
      "Enter address: Kathmandu\n",
      "Hello, I am  Rubina  I am 23  years old and I am from  Kathmandu \n"
     ]
    }
   ],
   "source": [
    "# String Formatting\n",
    "\n",
    "name = input(\"Enter name: \")\n",
    "age = input(\"Enter age: \")\n",
    "address = input(\"Enter address: \")\n",
    "\n",
    "info = f\"Hello, I am  {name}  I am {str(age)}  years old and I am from  {str(address)}\"\n",
    "print(info)"
   ]
  },
  {
   "cell_type": "code",
   "execution_count": 16,
   "id": "9da5f2f0",
   "metadata": {},
   "outputs": [
    {
     "name": "stdout",
     "output_type": "stream",
     "text": [
      "Enter name: Ram\n",
      "Enter age: 34\n",
      "Enter address: Kathmandu\n",
      "Hello, \n",
      "\"I am  Ram\"  I am 34  years old and I am from  Kathmandu\n"
     ]
    }
   ],
   "source": [
    "# Raw String\n",
    "\n",
    "name = input(\"Enter name: \")\n",
    "age = input(\"Enter age: \")\n",
    "address = input(\"Enter address: \")\n",
    "\n",
    "info = f\"\"\"Hello, \n",
    "\"I am  {name}\"  I am {str(age)}  years old and I am from  {str(address)}\"\"\"\n",
    "print(info)"
   ]
  },
  {
   "cell_type": "code",
   "execution_count": 21,
   "id": "f60567ba",
   "metadata": {},
   "outputs": [
    {
     "name": "stdout",
     "output_type": "stream",
     "text": [
      "u\n"
     ]
    }
   ],
   "source": [
    "# In index to print the index from last then use \"-\"\n",
    "print(info[-1])"
   ]
  },
  {
   "cell_type": "code",
   "execution_count": 29,
   "id": "f5588d64",
   "metadata": {},
   "outputs": [
    {
     "name": "stdout",
     "output_type": "stream",
     "text": [
      "Number of characters 11\n"
     ]
    },
    {
     "data": {
      "text/plain": [
       "''"
      ]
     },
     "execution_count": 29,
     "metadata": {},
     "output_type": "execute_result"
    }
   ],
   "source": [
    "# print in opposite\n",
    "\n",
    "a = \"Hello World\"\n",
    "l = len(a)\n",
    "print(\"Number of characters\",l)\n",
    "a[10:-1:-1]"
   ]
  },
  {
   "cell_type": "code",
   "execution_count": 28,
   "id": "ad210fca",
   "metadata": {},
   "outputs": [
    {
     "data": {
      "text/plain": [
       "'dlroW olleH'"
      ]
     },
     "execution_count": 28,
     "metadata": {},
     "output_type": "execute_result"
    }
   ],
   "source": [
    "a[::-1]"
   ]
  },
  {
   "cell_type": "code",
   "execution_count": 34,
   "id": "2ca50ed9",
   "metadata": {},
   "outputs": [
    {
     "name": "stdout",
     "output_type": "stream",
     "text": [
      "Enter a = 303\n",
      "The number is palindrom\n"
     ]
    }
   ],
   "source": [
    "a = input(\"Enter a = \")\n",
    "b = a[::-1]\n",
    "if a == b:\n",
    "    print(\"The number is palindrom\")\n",
    "else:\n",
    "    print(\"The number is ordinary\")"
   ]
  },
  {
   "cell_type": "code",
   "execution_count": 39,
   "id": "c6082c82",
   "metadata": {},
   "outputs": [
    {
     "name": "stdout",
     "output_type": "stream",
     "text": [
      "Present\n",
      "2\n"
     ]
    }
   ],
   "source": [
    "# Search in string\n",
    "\n",
    "a = \"Ram Hari Krishna Radha Ram\"\n",
    "if \"Ram\" in a:\n",
    "    print(\"Present\")\n",
    "    print(a.count(\"Ram\"))\n",
    "else:\n",
    "    print(\"Not Present\")"
   ]
  },
  {
   "cell_type": "code",
   "execution_count": 6,
   "id": "a4907779",
   "metadata": {},
   "outputs": [
    {
     "name": "stdout",
     "output_type": "stream",
     "text": [
      "Enter name = Ram Hari\n",
      "Search name: Hari\n",
      "Present\n",
      "1\n"
     ]
    }
   ],
   "source": [
    "name = input(\"Enter name = \")\n",
    "search = input(\"Search name: \")\n",
    "if search in name:\n",
    "     print(\"Present\")\n",
    "     print(name.count(search))\n",
    "else:\n",
    "    print(\"Not Present\")"
   ]
  },
  {
   "cell_type": "code",
   "execution_count": 7,
   "id": "7d40d43d",
   "metadata": {},
   "outputs": [
    {
     "name": "stdout",
     "output_type": "stream",
     "text": [
      "ram hari krishna radha ram\n",
      "RAM HARI KRISHNA RADHA RAM\n"
     ]
    }
   ],
   "source": [
    "a = \"Ram Hari Krishna Radha Ram\"\n",
    "b = a.lower()\n",
    "c = a. upper()\n",
    "print(b)\n",
    "print(c)"
   ]
  },
  {
   "cell_type": "code",
   "execution_count": 8,
   "id": "761f20df",
   "metadata": {},
   "outputs": [
    {
     "name": "stdout",
     "output_type": "stream",
     "text": [
      "Enter name = Krishna krishna Ram Hari\n",
      "Search name: krishna\n",
      "Present\n",
      "2\n"
     ]
    }
   ],
   "source": [
    "name = input(\"Enter name = \").lower()\n",
    "search = input(\"Search name: \").lower()\n",
    "if search in name:\n",
    "     print(\"Present\")\n",
    "     print(name.count(search))\n",
    "else:\n",
    "    print(\"Not Present\")"
   ]
  },
  {
   "cell_type": "code",
   "execution_count": 9,
   "id": "d5697056",
   "metadata": {},
   "outputs": [
    {
     "data": {
      "text/plain": [
       "'Ram Hari Krishna Radha Ram'"
      ]
     },
     "execution_count": 9,
     "metadata": {},
     "output_type": "execute_result"
    }
   ],
   "source": [
    "a = \"ram hari krishna radha ram\"\n",
    "a.title()"
   ]
  },
  {
   "cell_type": "code",
   "execution_count": 10,
   "id": "37ddcbee",
   "metadata": {},
   "outputs": [
    {
     "data": {
      "text/plain": [
       "'Ram Hari Krishna Radha Ram'"
      ]
     },
     "execution_count": 10,
     "metadata": {},
     "output_type": "execute_result"
    }
   ],
   "source": [
    "# Using Replace\n",
    "\n",
    "a = \"Ram Hari Krishna Radha ram\"\n",
    "a.replace(\"ram\",\"Ram\")"
   ]
  },
  {
   "cell_type": "code",
   "execution_count": 11,
   "id": "7c7cd172",
   "metadata": {},
   "outputs": [
    {
     "data": {
      "text/plain": [
       "'Ram Hari Krishna Radha '"
      ]
     },
     "execution_count": 11,
     "metadata": {},
     "output_type": "execute_result"
    }
   ],
   "source": [
    "a = \"Ram Hari Krishna Radha ram\"\n",
    "a.replace(\"ram\",\"\")"
   ]
  },
  {
   "cell_type": "code",
   "execution_count": 13,
   "id": "8224c762",
   "metadata": {},
   "outputs": [
    {
     "name": "stdout",
     "output_type": "stream",
     "text": [
      "H\n",
      "i\n"
     ]
    }
   ],
   "source": [
    "a = \"Hi\"\n",
    "for i in a:\n",
    "    print(i)"
   ]
  },
  {
   "cell_type": "code",
   "execution_count": 2,
   "id": "a6c5819c",
   "metadata": {},
   "outputs": [
    {
     "name": "stdout",
     "output_type": "stream",
     "text": [
      "H\n",
      "i\n"
     ]
    }
   ],
   "source": [
    "a = \"Hi\"\n",
    "l = len(a)\n",
    "i = 0\n",
    "while i<l:\n",
    "    print(a[i])\n",
    "    i = i+1"
   ]
  },
  {
   "cell_type": "code",
   "execution_count": 3,
   "id": "6714416d",
   "metadata": {},
   "outputs": [
    {
     "data": {
      "text/plain": [
       "['Ram', 'Hari', 'Krishna', 'Radha', 'ram']"
      ]
     },
     "execution_count": 3,
     "metadata": {},
     "output_type": "execute_result"
    }
   ],
   "source": [
    "a = \"Ram Hari Krishna Radha ram\"\n",
    "a.split()"
   ]
  },
  {
   "cell_type": "code",
   "execution_count": 4,
   "id": "ee608c3d",
   "metadata": {},
   "outputs": [
    {
     "data": {
      "text/plain": [
       "['Ram', 'Hari', 'Krishna', 'Radha', 'ram']"
      ]
     },
     "execution_count": 4,
     "metadata": {},
     "output_type": "execute_result"
    }
   ],
   "source": [
    "a = \"Ram_Hari_Krishna_Radha_ram\"\n",
    "a.split(\"_\")"
   ]
  }
 ],
 "metadata": {
  "kernelspec": {
   "display_name": "Python 3 (ipykernel)",
   "language": "python",
   "name": "python3"
  },
  "language_info": {
   "codemirror_mode": {
    "name": "ipython",
    "version": 3
   },
   "file_extension": ".py",
   "mimetype": "text/x-python",
   "name": "python",
   "nbconvert_exporter": "python",
   "pygments_lexer": "ipython3",
   "version": "3.9.12"
  }
 },
 "nbformat": 4,
 "nbformat_minor": 5
}
