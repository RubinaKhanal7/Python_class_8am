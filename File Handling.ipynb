{
 "cells": [
  {
   "cell_type": "code",
   "execution_count": 1,
   "id": "1f491675",
   "metadata": {},
   "outputs": [],
   "source": [
    "# file\n",
    "# Syntax:\n",
    "\n",
    "# Modes:\n",
    "# r -> read\n",
    "# w -> write\n",
    "# x -> create\n",
    "# a -> append\n",
    "\n",
    "# file = open('<file_name>','mode')\n",
    "# file.close()\n",
    "\n",
    "# with open(<file_name,mode>):\n",
    "#     <operations>"
   ]
  },
  {
   "cell_type": "code",
   "execution_count": 2,
   "id": "7e68731e",
   "metadata": {},
   "outputs": [],
   "source": [
    "# To create a file\n",
    "\n",
    "try:\n",
    "    file = open('data.txt','x')\n",
    "    file.close()\n",
    "except:\n",
    "    print(\"The file is already created.\")"
   ]
  },
  {
   "cell_type": "code",
   "execution_count": 3,
   "id": "2162a2bc",
   "metadata": {},
   "outputs": [
    {
     "data": {
      "text/plain": [
       "['.ipynb_checkpoints',\n",
       " 'basics of python.ipynb',\n",
       " 'Conditional Statement.ipynb',\n",
       " 'data.txt',\n",
       " 'Dictionary.ipynb',\n",
       " 'Exception Handling.ipynb',\n",
       " 'File Handling.ipynb',\n",
       " 'Function.ipynb',\n",
       " 'List.ipynb',\n",
       " 'Loop.ipynb',\n",
       " 'NestedList.ipynb',\n",
       " 'Set.ipynb',\n",
       " 'String.ipynb',\n",
       " 'Tuple.ipynb']"
      ]
     },
     "execution_count": 3,
     "metadata": {},
     "output_type": "execute_result"
    }
   ],
   "source": [
    "# To find out the file in the folder\n",
    "\n",
    "import os\n",
    "os.listdir()"
   ]
  },
  {
   "cell_type": "code",
   "execution_count": 4,
   "id": "d59ccd8d",
   "metadata": {},
   "outputs": [],
   "source": [
    "# To write in a file\n",
    "\n",
    "file = open('data.txt','w')\n",
    "file.write('Hello World')\n",
    "file.close()"
   ]
  },
  {
   "cell_type": "code",
   "execution_count": 5,
   "id": "685e6c47",
   "metadata": {},
   "outputs": [
    {
     "name": "stdout",
     "output_type": "stream",
     "text": [
      "Hello World\n"
     ]
    }
   ],
   "source": [
    "# To read a file\n",
    "\n",
    "file = open('data.txt','r')\n",
    "print(file.read())\n",
    "file.close()"
   ]
  },
  {
   "cell_type": "code",
   "execution_count": 40,
   "id": "d0c0ae14",
   "metadata": {},
   "outputs": [],
   "source": [
    "# To write in a file\n",
    "\n",
    "file = open('data.txt','w')\n",
    "file.write(\"\"\"SN,Name,Age,Address,Phone\n",
    "1,Ram,45,Kathmandu,9876564563\n",
    "2,Shyam,23,Chitwan,9756876555\n",
    "3,Hari,34,Bhaktapur,9877878767\n",
    "4,Radha,23,Tinkune,9876453452\n",
    "5,Krishna,23,Baneshwor,9875546343\"\"\")\n",
    "file.close()"
   ]
  },
  {
   "cell_type": "code",
   "execution_count": 41,
   "id": "81a42740",
   "metadata": {},
   "outputs": [
    {
     "name": "stdout",
     "output_type": "stream",
     "text": [
      "SN,Name,Age,Address,Phone\n",
      "1,Ram,45,Kathmandu,9876564563\n",
      "2,Shyam,23,Chitwan,9756876555\n",
      "3,Hari,34,Bhaktapur,9877878767\n",
      "4,Radha,23,Tinkune,9876453452\n",
      "5,Krishna,23,Baneshwor,9875546343\n"
     ]
    }
   ],
   "source": [
    "# To read a file\n",
    "\n",
    "file = open('data.txt','r')\n",
    "data = file.read()\n",
    "print(data)\n",
    "file.close()"
   ]
  },
  {
   "cell_type": "code",
   "execution_count": 42,
   "id": "5d5be7f5",
   "metadata": {},
   "outputs": [
    {
     "data": {
      "text/plain": [
       "['SN,Name,Age,Address,Phone',\n",
       " '1,Ram,45,Kathmandu,9876564563',\n",
       " '2,Shyam,23,Chitwan,9756876555',\n",
       " '3,Hari,34,Bhaktapur,9877878767',\n",
       " '4,Radha,23,Tinkune,9876453452',\n",
       " '5,Krishna,23,Baneshwor,9875546343']"
      ]
     },
     "execution_count": 42,
     "metadata": {},
     "output_type": "execute_result"
    }
   ],
   "source": [
    "# To convert and print data into list\n",
    "\n",
    "list_data = data.split('\\n')\n",
    "list_data"
   ]
  },
  {
   "cell_type": "code",
   "execution_count": 43,
   "id": "248076de",
   "metadata": {},
   "outputs": [
    {
     "data": {
      "text/plain": [
       "[['SN', 'Name', 'Age', 'Address', 'Phone'],\n",
       " ['1', 'Ram', '45', 'Kathmandu', '9876564563'],\n",
       " ['2', 'Shyam', '23', 'Chitwan', '9756876555'],\n",
       " ['3', 'Hari', '34', 'Bhaktapur', '9877878767'],\n",
       " ['4', 'Radha', '23', 'Tinkune', '9876453452'],\n",
       " ['5', 'Krishna', '23', 'Baneshwor', '9875546343']]"
      ]
     },
     "execution_count": 43,
     "metadata": {},
     "output_type": "execute_result"
    }
   ],
   "source": [
    "# To convert and print data into list inside list\n",
    "\n",
    "final_data = []\n",
    "for i in list_data:\n",
    "    final_data.append(i.split(','))\n",
    "final_data"
   ]
  },
  {
   "cell_type": "code",
   "execution_count": 44,
   "id": "1ab4e286",
   "metadata": {},
   "outputs": [
    {
     "data": {
      "text/plain": [
       "[['SN', 'Name', 'Age', 'Address', 'Phone'],\n",
       " [1, 'Ram', 45, 'Kathmandu', 9876564563],\n",
       " [2, 'Shyam', 23, 'Chitwan', 9756876555],\n",
       " [3, 'Hari', 34, 'Bhaktapur', 9877878767],\n",
       " [4, 'Radha', 23, 'Tinkune', 9876453452],\n",
       " [5, 'Krishna', 23, 'Baneshwor', 9875546343]]"
      ]
     },
     "execution_count": 44,
     "metadata": {},
     "output_type": "execute_result"
    }
   ],
   "source": [
    "# To change sn,age and phone into integer using index\n",
    "\n",
    "final_data = []\n",
    "for i in list_data:\n",
    "    z = i.split(',')   # To seperate values by comma\n",
    "    try:\n",
    "        z[0] = int(z[0])\n",
    "        z[2] = int(z[2])\n",
    "        z[4] = int(z[4])\n",
    "        final_data.append(z)\n",
    "    \n",
    "    except:\n",
    "        final_data.append(z)\n",
    "        \n",
    "final_data"
   ]
  },
  {
   "cell_type": "code",
   "execution_count": 45,
   "id": "47e26eba",
   "metadata": {},
   "outputs": [
    {
     "name": "stdout",
     "output_type": "stream",
     "text": [
      "Enter name for search: ram\n",
      "[1, 'Ram', 45, 'Kathmandu', 9876564563]\n"
     ]
    }
   ],
   "source": [
    "name = input(\"Enter name for search: \")\n",
    "for i in final_data:\n",
    "    if i[1].lower() == name.lower():\n",
    "        print(i)"
   ]
  },
  {
   "cell_type": "code",
   "execution_count": 48,
   "id": "a986a8a5",
   "metadata": {},
   "outputs": [],
   "source": [
    "# To write in a file using csv\n",
    "\n",
    "file = open('data.csv','w')\n",
    "file.write(\"\"\"SN,Name,Age,Address,Phone\n",
    "1,Ram,45,Kathmandu,9876564563\n",
    "2,Shyam,23,Chitwan,9756876555\n",
    "3,Hari,34,Bhaktpur,9877878767\n",
    "4,Radha,23,Tinkune,9876453452\n",
    "5,Krishna,23,Baneshwor,9875546343\"\"\")\n",
    "file.close()"
   ]
  },
  {
   "cell_type": "code",
   "execution_count": 39,
   "id": "c7080990",
   "metadata": {},
   "outputs": [
    {
     "data": {
      "text/plain": [
       "'C:\\\\Users\\\\Rubina\\\\Desktop\\\\Python'"
      ]
     },
     "execution_count": 39,
     "metadata": {},
     "output_type": "execute_result"
    }
   ],
   "source": [
    "# To find out path of file but only used in jupyter\n",
    "\n",
    "pwd"
   ]
  },
  {
   "cell_type": "code",
   "execution_count": 52,
   "id": "7211b264",
   "metadata": {},
   "outputs": [
    {
     "name": "stdout",
     "output_type": "stream",
     "text": [
      "Enter n = 2\n",
      "Enter name of a product = Biscuit\n",
      "Enter price = 10\n",
      "Enter quantity = 30\n",
      "Enter name of a product = Noodle\n",
      "Enter price = 20\n",
      "Enter quantity = 20\n",
      "Biscuit,10.0,30.0,300.0\n",
      "Noodle,20.0,20.0,400.0\n",
      "\n"
     ]
    }
   ],
   "source": [
    "# write mode\n",
    "\n",
    "bill = str()\n",
    "n = int(input(\"Enter n = \"))\n",
    "for i in range(n):\n",
    "    name = input(\"Enter name of a product = \")\n",
    "    price = float(input(\"Enter price = \"))\n",
    "    qty = float(input(\"Enter quantity = \"))\n",
    "    total = price * qty\n",
    "    data = f\"{name},{price},{qty},{total}\\n\"\n",
    "    bill = bill + data\n",
    "print(bill)\n",
    "\n",
    "file = open(\"bill.csv\",'w')\n",
    "file.write('Product,Price,Quantity,Total\\n')\n",
    "file.write(bill)\n",
    "file.close()"
   ]
  },
  {
   "cell_type": "code",
   "execution_count": 1,
   "id": "e9339085",
   "metadata": {},
   "outputs": [
    {
     "name": "stdout",
     "output_type": "stream",
     "text": [
      "Enter n = 1\n",
      "Enter customer name = Ram\n",
      "Enter name of a product = Biscuit\n",
      "Enter price = 10\n",
      "Enter quantity = 30\n",
      "Ram,Biscuit,10.0,30.0,300.0,Wed Jan  8 09:31:55 2025\n",
      "\n"
     ]
    }
   ],
   "source": [
    "# append mode\n",
    "\n",
    "import datetime\n",
    "\n",
    "x = datetime.datetime.now()\n",
    "date_time = x.strftime(\"%c\")\n",
    "\n",
    "bill = str()\n",
    "n = int(input(\"Enter n = \"))\n",
    "customer_name = input(\"Enter customer name = \")\n",
    "for i in range(n):\n",
    "\n",
    "    product_name = input(\"Enter name of a product = \")\n",
    "    price = float(input(\"Enter price = \"))\n",
    "    qty = float(input(\"Enter quantity = \"))\n",
    "    total = price * qty\n",
    "    data = f\"{customer_name},{product_name},{price},{qty},{total},{date_time}\\n\"\n",
    "    bill = bill + data\n",
    "print(bill)\n",
    "\n",
    "file = open(\"bills.csv\",'a')\n",
    "file.write('Customer Name,Product,Price,Quantity,Total,Date and Time\\n')\n",
    "file.write(bill)\n",
    "file.close()"
   ]
  }
 ],
 "metadata": {
  "kernelspec": {
   "display_name": "Python 3 (ipykernel)",
   "language": "python",
   "name": "python3"
  },
  "language_info": {
   "codemirror_mode": {
    "name": "ipython",
    "version": 3
   },
   "file_extension": ".py",
   "mimetype": "text/x-python",
   "name": "python",
   "nbconvert_exporter": "python",
   "pygments_lexer": "ipython3",
   "version": "3.9.12"
  }
 },
 "nbformat": 4,
 "nbformat_minor": 5
}
